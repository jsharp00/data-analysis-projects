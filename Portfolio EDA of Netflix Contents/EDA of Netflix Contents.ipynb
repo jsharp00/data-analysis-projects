{
 "cells": [
  {
   "cell_type": "markdown",
   "id": "b587e5c4-1dc8-4d51-b98e-fc0ae0676d12",
   "metadata": {},
   "source": [
    "<div style=\"height: 150px; line-height: 150px; width:75%; float: left; font-size: 40px;\">Netflix Contents Exploratory Data Analysis</div>\n",
    "<div style=\"text-align: right; width:25%; float:right;\">\n",
    "    <img \n",
    "         src=\"https://imgix.bustle.com/uploads/image/2017/8/29/c8c8077a-10fc-44d5-93f0-da4e592a299e-netflix-logo-print_pms.jpg?w=800&fit=crop&crop=faces&auto=format%2Ccompress\"\n",
    "         style=\"width: 275px; height: 150px;\"\n",
    "     >\n",
    "</div>"
   ]
  },
  {
   "cell_type": "markdown",
   "id": "3c8484db-91d5-4af9-9945-5efba2fb80fd",
   "metadata": {},
   "source": [
    "<font size=\"3\">Netflix, Inc. is an American subscription streaming service and production company based in Los Gatos, California. Launched on August 29, 1997, it offers a film and television series library through distribution deals as well as its own productions, known as Netflix Originals. As of March 31, 2022, Netflix had over 221.6 million subscribers worldwide. <a href=\"https://en.wikipedia.org/wiki/Netflix\">Wikipedia</a></font>"
   ]
  },
  {
   "cell_type": "markdown",
   "id": "f9ea890a-817f-4cd9-8b77-786ab92b8f62",
   "metadata": {},
   "source": [
    "## Introduction\n",
    "<font size=\"3\">This notebook contains the exploratory data analysis of the <a href=\"https://www.kaggle.com/datasets/shivamb/netflix-shows\">Netflix Movies and TV Shows dataset</a>. The dataset contains a comprehensive list of the movies and TV shows available for streaming on the platform. Each row contains the show ID, category, title, director(s), cast, country, release date, rating, duration, genre(s) and description of a movie/TV show.</font>\n",
    "\n",
    "<font size=\"3\">The EDA process will consist of several stages. The dataset will first be cleaned and other neccessary changes will be made before insights can be made through analysis and presented using visualisation.</font>"
   ]
  },
  {
   "cell_type": "markdown",
   "id": "1212bbad-1dd6-49b8-8f89-d04b739eacc2",
   "metadata": {},
   "source": [
    "## Import Packages"
   ]
  },
  {
   "cell_type": "code",
   "execution_count": 1,
   "id": "78d341ba-e4d4-4b1a-9c7e-15aa072f1891",
   "metadata": {},
   "outputs": [],
   "source": [
    "import numpy as np\n",
    "import pandas as pd\n",
    "import matplotlib.pyplot as plt\n",
    "import seaborn as sns\n",
    "import plotly.express as px\n",
    "import math\n",
    "from IPython.display import Image\n",
    "\n",
    "plt.style.use('ggplot')\n",
    "pd.options.mode.chained_assignment = None"
   ]
  },
  {
   "cell_type": "markdown",
   "id": "bea471f3",
   "metadata": {},
   "source": [
    "## Import Data"
   ]
  },
  {
   "cell_type": "code",
   "execution_count": 2,
   "id": "83d2e947",
   "metadata": {},
   "outputs": [
    {
     "data": {
      "text/html": [
       "<div>\n",
       "<style scoped>\n",
       "    .dataframe tbody tr th:only-of-type {\n",
       "        vertical-align: middle;\n",
       "    }\n",
       "\n",
       "    .dataframe tbody tr th {\n",
       "        vertical-align: top;\n",
       "    }\n",
       "\n",
       "    .dataframe thead th {\n",
       "        text-align: right;\n",
       "    }\n",
       "</style>\n",
       "<table border=\"1\" class=\"dataframe\">\n",
       "  <thead>\n",
       "    <tr style=\"text-align: right;\">\n",
       "      <th></th>\n",
       "      <th>Show_Id</th>\n",
       "      <th>Category</th>\n",
       "      <th>Title</th>\n",
       "      <th>Director</th>\n",
       "      <th>Cast</th>\n",
       "      <th>Country</th>\n",
       "      <th>Release_Date</th>\n",
       "      <th>Rating</th>\n",
       "      <th>Duration</th>\n",
       "      <th>Type</th>\n",
       "      <th>Description</th>\n",
       "    </tr>\n",
       "  </thead>\n",
       "  <tbody>\n",
       "    <tr>\n",
       "      <th>0</th>\n",
       "      <td>s1</td>\n",
       "      <td>TV Show</td>\n",
       "      <td>3%</td>\n",
       "      <td>NaN</td>\n",
       "      <td>João Miguel, Bianca Comparato, Michel Gomes, R...</td>\n",
       "      <td>Brazil</td>\n",
       "      <td>August 14, 2020</td>\n",
       "      <td>TV-MA</td>\n",
       "      <td>4 Seasons</td>\n",
       "      <td>International TV Shows, TV Dramas, TV Sci-Fi &amp;...</td>\n",
       "      <td>In a future where the elite inhabit an island ...</td>\n",
       "    </tr>\n",
       "    <tr>\n",
       "      <th>1</th>\n",
       "      <td>s2</td>\n",
       "      <td>Movie</td>\n",
       "      <td>07:19</td>\n",
       "      <td>Jorge Michel Grau</td>\n",
       "      <td>Demián Bichir, Héctor Bonilla, Oscar Serrano, ...</td>\n",
       "      <td>Mexico</td>\n",
       "      <td>December 23, 2016</td>\n",
       "      <td>TV-MA</td>\n",
       "      <td>93 min</td>\n",
       "      <td>Dramas, International Movies</td>\n",
       "      <td>After a devastating earthquake hits Mexico Cit...</td>\n",
       "    </tr>\n",
       "    <tr>\n",
       "      <th>2</th>\n",
       "      <td>s3</td>\n",
       "      <td>Movie</td>\n",
       "      <td>23:59</td>\n",
       "      <td>Gilbert Chan</td>\n",
       "      <td>Tedd Chan, Stella Chung, Henley Hii, Lawrence ...</td>\n",
       "      <td>Singapore</td>\n",
       "      <td>December 20, 2018</td>\n",
       "      <td>R</td>\n",
       "      <td>78 min</td>\n",
       "      <td>Horror Movies, International Movies</td>\n",
       "      <td>When an army recruit is found dead, his fellow...</td>\n",
       "    </tr>\n",
       "    <tr>\n",
       "      <th>3</th>\n",
       "      <td>s4</td>\n",
       "      <td>Movie</td>\n",
       "      <td>9</td>\n",
       "      <td>Shane Acker</td>\n",
       "      <td>Elijah Wood, John C. Reilly, Jennifer Connelly...</td>\n",
       "      <td>United States</td>\n",
       "      <td>November 16, 2017</td>\n",
       "      <td>PG-13</td>\n",
       "      <td>80 min</td>\n",
       "      <td>Action &amp; Adventure, Independent Movies, Sci-Fi...</td>\n",
       "      <td>In a postapocalyptic world, rag-doll robots hi...</td>\n",
       "    </tr>\n",
       "    <tr>\n",
       "      <th>4</th>\n",
       "      <td>s5</td>\n",
       "      <td>Movie</td>\n",
       "      <td>21</td>\n",
       "      <td>Robert Luketic</td>\n",
       "      <td>Jim Sturgess, Kevin Spacey, Kate Bosworth, Aar...</td>\n",
       "      <td>United States</td>\n",
       "      <td>January 1, 2020</td>\n",
       "      <td>PG-13</td>\n",
       "      <td>123 min</td>\n",
       "      <td>Dramas</td>\n",
       "      <td>A brilliant group of students become card-coun...</td>\n",
       "    </tr>\n",
       "  </tbody>\n",
       "</table>\n",
       "</div>"
      ],
      "text/plain": [
       "  Show_Id Category  Title           Director  \\\n",
       "0      s1  TV Show     3%                NaN   \n",
       "1      s2    Movie  07:19  Jorge Michel Grau   \n",
       "2      s3    Movie  23:59       Gilbert Chan   \n",
       "3      s4    Movie      9        Shane Acker   \n",
       "4      s5    Movie     21     Robert Luketic   \n",
       "\n",
       "                                                Cast        Country  \\\n",
       "0  João Miguel, Bianca Comparato, Michel Gomes, R...         Brazil   \n",
       "1  Demián Bichir, Héctor Bonilla, Oscar Serrano, ...         Mexico   \n",
       "2  Tedd Chan, Stella Chung, Henley Hii, Lawrence ...      Singapore   \n",
       "3  Elijah Wood, John C. Reilly, Jennifer Connelly...  United States   \n",
       "4  Jim Sturgess, Kevin Spacey, Kate Bosworth, Aar...  United States   \n",
       "\n",
       "        Release_Date Rating   Duration  \\\n",
       "0    August 14, 2020  TV-MA  4 Seasons   \n",
       "1  December 23, 2016  TV-MA     93 min   \n",
       "2  December 20, 2018      R     78 min   \n",
       "3  November 16, 2017  PG-13     80 min   \n",
       "4    January 1, 2020  PG-13    123 min   \n",
       "\n",
       "                                                Type  \\\n",
       "0  International TV Shows, TV Dramas, TV Sci-Fi &...   \n",
       "1                       Dramas, International Movies   \n",
       "2                Horror Movies, International Movies   \n",
       "3  Action & Adventure, Independent Movies, Sci-Fi...   \n",
       "4                                             Dramas   \n",
       "\n",
       "                                         Description  \n",
       "0  In a future where the elite inhabit an island ...  \n",
       "1  After a devastating earthquake hits Mexico Cit...  \n",
       "2  When an army recruit is found dead, his fellow...  \n",
       "3  In a postapocalyptic world, rag-doll robots hi...  \n",
       "4  A brilliant group of students become card-coun...  "
      ]
     },
     "execution_count": 2,
     "metadata": {},
     "output_type": "execute_result"
    }
   ],
   "source": [
    "df = pd.read_csv('data/Netflix Dataset.csv')\n",
    "df.head()"
   ]
  },
  {
   "cell_type": "markdown",
   "id": "501f551c",
   "metadata": {},
   "source": [
    "## Data Overview"
   ]
  },
  {
   "cell_type": "code",
   "execution_count": 3,
   "id": "87312279-14d3-45c2-879d-7003d57806d3",
   "metadata": {},
   "outputs": [
    {
     "name": "stdout",
     "output_type": "stream",
     "text": [
      "Number of rows (movies & TV shows): 7789\n",
      "Number of columns (attributes): 11\n"
     ]
    }
   ],
   "source": [
    "# Size of the Dataset\n",
    "print(f\"Number of rows (movies & TV shows): {df.shape[0]}\")\n",
    "print(f\"Number of columns (attributes): {df.shape[1]}\")"
   ]
  },
  {
   "cell_type": "code",
   "execution_count": 4,
   "id": "2d86bb95",
   "metadata": {},
   "outputs": [
    {
     "data": {
      "text/plain": [
       "Show_Id         object\n",
       "Category        object\n",
       "Title           object\n",
       "Director        object\n",
       "Cast            object\n",
       "Country         object\n",
       "Release_Date    object\n",
       "Rating          object\n",
       "Duration        object\n",
       "Type            object\n",
       "Description     object\n",
       "dtype: object"
      ]
     },
     "execution_count": 4,
     "metadata": {},
     "output_type": "execute_result"
    }
   ],
   "source": [
    "# Column data types\n",
    "df.dtypes"
   ]
  },
  {
   "cell_type": "markdown",
   "id": "7287c3b9-7767-40e9-b387-0308b54b431f",
   "metadata": {},
   "source": [
    "## Data Manipulation"
   ]
  },
  {
   "cell_type": "code",
   "execution_count": 5,
   "id": "48bfb592-db4d-46c5-88ab-e9411dc7ff77",
   "metadata": {},
   "outputs": [],
   "source": [
    "# Correcting the only incorrect data type\n",
    "df[\"Release_Date\"] = pd.to_datetime(df[\"Release_Date\"])"
   ]
  },
  {
   "cell_type": "code",
   "execution_count": 6,
   "id": "bd617388-51a5-410a-88ac-bb2ceb201a4a",
   "metadata": {},
   "outputs": [],
   "source": [
    "# Rename \"Type\" column to \"Genre\"\n",
    "df = df.rename(columns={\"Type\":\"Genre\"})"
   ]
  },
  {
   "cell_type": "code",
   "execution_count": 7,
   "id": "4e178271-c113-4cb8-bdde-60a6df803113",
   "metadata": {},
   "outputs": [],
   "source": [
    "# Add column with total cast member count\n",
    "def calculate_cast_count(x):\n",
    "    if str(x) == 'nan':\n",
    "        return np.nan\n",
    "    else:\n",
    "        return x.count(',') + 1\n",
    "\n",
    "df[\"Cast Count\"] = df[\"Cast\"].apply(lambda x: calculate_cast_count(x))"
   ]
  },
  {
   "cell_type": "code",
   "execution_count": 8,
   "id": "8cdb001e-3d0e-4b55-8002-238bdba3aaf0",
   "metadata": {},
   "outputs": [
    {
     "data": {
      "text/html": [
       "<div>\n",
       "<style scoped>\n",
       "    .dataframe tbody tr th:only-of-type {\n",
       "        vertical-align: middle;\n",
       "    }\n",
       "\n",
       "    .dataframe tbody tr th {\n",
       "        vertical-align: top;\n",
       "    }\n",
       "\n",
       "    .dataframe thead th {\n",
       "        text-align: right;\n",
       "    }\n",
       "</style>\n",
       "<table border=\"1\" class=\"dataframe\">\n",
       "  <thead>\n",
       "    <tr style=\"text-align: right;\">\n",
       "      <th></th>\n",
       "      <th>Show_Id</th>\n",
       "      <th>Category</th>\n",
       "      <th>Title</th>\n",
       "      <th>Director</th>\n",
       "      <th>Cast</th>\n",
       "      <th>Country</th>\n",
       "      <th>Release_Date</th>\n",
       "      <th>Rating</th>\n",
       "      <th>Duration</th>\n",
       "      <th>Genre</th>\n",
       "      <th>Description</th>\n",
       "      <th>Cast Count</th>\n",
       "    </tr>\n",
       "  </thead>\n",
       "  <tbody>\n",
       "    <tr>\n",
       "      <th>0</th>\n",
       "      <td>s1</td>\n",
       "      <td>TV Show</td>\n",
       "      <td>3%</td>\n",
       "      <td>NaN</td>\n",
       "      <td>João Miguel, Bianca Comparato, Michel Gomes, R...</td>\n",
       "      <td>Brazil</td>\n",
       "      <td>2020-08-14</td>\n",
       "      <td>TV-MA</td>\n",
       "      <td>4 Seasons</td>\n",
       "      <td>International TV Shows, TV Dramas, TV Sci-Fi &amp;...</td>\n",
       "      <td>In a future where the elite inhabit an island ...</td>\n",
       "      <td>11.0</td>\n",
       "    </tr>\n",
       "    <tr>\n",
       "      <th>1</th>\n",
       "      <td>s2</td>\n",
       "      <td>Movie</td>\n",
       "      <td>07:19</td>\n",
       "      <td>Jorge Michel Grau</td>\n",
       "      <td>Demián Bichir, Héctor Bonilla, Oscar Serrano, ...</td>\n",
       "      <td>Mexico</td>\n",
       "      <td>2016-12-23</td>\n",
       "      <td>TV-MA</td>\n",
       "      <td>93 min</td>\n",
       "      <td>Dramas, International Movies</td>\n",
       "      <td>After a devastating earthquake hits Mexico Cit...</td>\n",
       "      <td>6.0</td>\n",
       "    </tr>\n",
       "    <tr>\n",
       "      <th>2</th>\n",
       "      <td>s3</td>\n",
       "      <td>Movie</td>\n",
       "      <td>23:59</td>\n",
       "      <td>Gilbert Chan</td>\n",
       "      <td>Tedd Chan, Stella Chung, Henley Hii, Lawrence ...</td>\n",
       "      <td>Singapore</td>\n",
       "      <td>2018-12-20</td>\n",
       "      <td>R</td>\n",
       "      <td>78 min</td>\n",
       "      <td>Horror Movies, International Movies</td>\n",
       "      <td>When an army recruit is found dead, his fellow...</td>\n",
       "      <td>9.0</td>\n",
       "    </tr>\n",
       "    <tr>\n",
       "      <th>3</th>\n",
       "      <td>s4</td>\n",
       "      <td>Movie</td>\n",
       "      <td>9</td>\n",
       "      <td>Shane Acker</td>\n",
       "      <td>Elijah Wood, John C. Reilly, Jennifer Connelly...</td>\n",
       "      <td>United States</td>\n",
       "      <td>2017-11-16</td>\n",
       "      <td>PG-13</td>\n",
       "      <td>80 min</td>\n",
       "      <td>Action &amp; Adventure, Independent Movies, Sci-Fi...</td>\n",
       "      <td>In a postapocalyptic world, rag-doll robots hi...</td>\n",
       "      <td>9.0</td>\n",
       "    </tr>\n",
       "    <tr>\n",
       "      <th>4</th>\n",
       "      <td>s5</td>\n",
       "      <td>Movie</td>\n",
       "      <td>21</td>\n",
       "      <td>Robert Luketic</td>\n",
       "      <td>Jim Sturgess, Kevin Spacey, Kate Bosworth, Aar...</td>\n",
       "      <td>United States</td>\n",
       "      <td>2020-01-01</td>\n",
       "      <td>PG-13</td>\n",
       "      <td>123 min</td>\n",
       "      <td>Dramas</td>\n",
       "      <td>A brilliant group of students become card-coun...</td>\n",
       "      <td>12.0</td>\n",
       "    </tr>\n",
       "  </tbody>\n",
       "</table>\n",
       "</div>"
      ],
      "text/plain": [
       "  Show_Id Category  Title           Director  \\\n",
       "0      s1  TV Show     3%                NaN   \n",
       "1      s2    Movie  07:19  Jorge Michel Grau   \n",
       "2      s3    Movie  23:59       Gilbert Chan   \n",
       "3      s4    Movie      9        Shane Acker   \n",
       "4      s5    Movie     21     Robert Luketic   \n",
       "\n",
       "                                                Cast        Country  \\\n",
       "0  João Miguel, Bianca Comparato, Michel Gomes, R...         Brazil   \n",
       "1  Demián Bichir, Héctor Bonilla, Oscar Serrano, ...         Mexico   \n",
       "2  Tedd Chan, Stella Chung, Henley Hii, Lawrence ...      Singapore   \n",
       "3  Elijah Wood, John C. Reilly, Jennifer Connelly...  United States   \n",
       "4  Jim Sturgess, Kevin Spacey, Kate Bosworth, Aar...  United States   \n",
       "\n",
       "  Release_Date Rating   Duration  \\\n",
       "0   2020-08-14  TV-MA  4 Seasons   \n",
       "1   2016-12-23  TV-MA     93 min   \n",
       "2   2018-12-20      R     78 min   \n",
       "3   2017-11-16  PG-13     80 min   \n",
       "4   2020-01-01  PG-13    123 min   \n",
       "\n",
       "                                               Genre  \\\n",
       "0  International TV Shows, TV Dramas, TV Sci-Fi &...   \n",
       "1                       Dramas, International Movies   \n",
       "2                Horror Movies, International Movies   \n",
       "3  Action & Adventure, Independent Movies, Sci-Fi...   \n",
       "4                                             Dramas   \n",
       "\n",
       "                                         Description  Cast Count  \n",
       "0  In a future where the elite inhabit an island ...        11.0  \n",
       "1  After a devastating earthquake hits Mexico Cit...         6.0  \n",
       "2  When an army recruit is found dead, his fellow...         9.0  \n",
       "3  In a postapocalyptic world, rag-doll robots hi...         9.0  \n",
       "4  A brilliant group of students become card-coun...        12.0  "
      ]
     },
     "execution_count": 8,
     "metadata": {},
     "output_type": "execute_result"
    }
   ],
   "source": [
    "df.head()"
   ]
  },
  {
   "cell_type": "markdown",
   "id": "971b509a",
   "metadata": {},
   "source": [
    "## Data Cleaning \n",
    "<font size=\"3\">Before any insights are drawn from the data, the data will first be cleaned to make sure these insights are accurate.</font>\n",
    "\n",
    "<font size=\"3\">This data cleaning will be in the form of:</font>\n",
    "- Finding and handling duplicate data\n",
    "- Finding and handling null values\n",
    "- Finding and handling outliers (not neccessary due to all fields being non-numerical)"
   ]
  },
  {
   "cell_type": "markdown",
   "id": "390c9928",
   "metadata": {},
   "source": [
    "### Finding and handling duplicate data"
   ]
  },
  {
   "cell_type": "code",
   "execution_count": 9,
   "id": "cbe5bc1d",
   "metadata": {},
   "outputs": [
    {
     "data": {
      "text/plain": [
       "2"
      ]
     },
     "execution_count": 9,
     "metadata": {},
     "output_type": "execute_result"
    }
   ],
   "source": [
    "# Count the number of duplicate rows, in which all columns are identical to anothers\n",
    "df.duplicated().sum()"
   ]
  },
  {
   "cell_type": "code",
   "execution_count": 10,
   "id": "f5ac7b10-a70c-4751-94c5-5f39957b4e7c",
   "metadata": {},
   "outputs": [
    {
     "data": {
      "text/html": [
       "<div>\n",
       "<style scoped>\n",
       "    .dataframe tbody tr th:only-of-type {\n",
       "        vertical-align: middle;\n",
       "    }\n",
       "\n",
       "    .dataframe tbody tr th {\n",
       "        vertical-align: top;\n",
       "    }\n",
       "\n",
       "    .dataframe thead th {\n",
       "        text-align: right;\n",
       "    }\n",
       "</style>\n",
       "<table border=\"1\" class=\"dataframe\">\n",
       "  <thead>\n",
       "    <tr style=\"text-align: right;\">\n",
       "      <th></th>\n",
       "      <th>Show_Id</th>\n",
       "      <th>Category</th>\n",
       "      <th>Title</th>\n",
       "      <th>Director</th>\n",
       "      <th>Cast</th>\n",
       "      <th>Country</th>\n",
       "      <th>Release_Date</th>\n",
       "      <th>Rating</th>\n",
       "      <th>Duration</th>\n",
       "      <th>Genre</th>\n",
       "      <th>Description</th>\n",
       "      <th>Cast Count</th>\n",
       "    </tr>\n",
       "  </thead>\n",
       "  <tbody>\n",
       "    <tr>\n",
       "      <th>6300</th>\n",
       "      <td>s684</td>\n",
       "      <td>Movie</td>\n",
       "      <td>Backfire</td>\n",
       "      <td>Dave Patten</td>\n",
       "      <td>Black Deniro, Byron \"Squally\" Vinson, Dominic ...</td>\n",
       "      <td>United States</td>\n",
       "      <td>2019-04-05</td>\n",
       "      <td>TV-MA</td>\n",
       "      <td>97 min</td>\n",
       "      <td>Dramas, Independent Movies, Thrillers</td>\n",
       "      <td>When two would-be robbers accidentally kill a ...</td>\n",
       "      <td>6.0</td>\n",
       "    </tr>\n",
       "    <tr>\n",
       "      <th>6622</th>\n",
       "      <td>s6621</td>\n",
       "      <td>Movie</td>\n",
       "      <td>The Lost Okoroshi</td>\n",
       "      <td>Abba T. Makama</td>\n",
       "      <td>Seun Ajayi, Judith Audu, Tope Tedela, Ifu Enna...</td>\n",
       "      <td>Nigeria</td>\n",
       "      <td>2020-09-04</td>\n",
       "      <td>TV-MA</td>\n",
       "      <td>94 min</td>\n",
       "      <td>Comedies, Dramas, Independent Movies</td>\n",
       "      <td>A disillusioned security guard transforms into...</td>\n",
       "      <td>10.0</td>\n",
       "    </tr>\n",
       "  </tbody>\n",
       "</table>\n",
       "</div>"
      ],
      "text/plain": [
       "     Show_Id Category              Title        Director  \\\n",
       "6300    s684    Movie           Backfire     Dave Patten   \n",
       "6622   s6621    Movie  The Lost Okoroshi  Abba T. Makama   \n",
       "\n",
       "                                                   Cast        Country  \\\n",
       "6300  Black Deniro, Byron \"Squally\" Vinson, Dominic ...  United States   \n",
       "6622  Seun Ajayi, Judith Audu, Tope Tedela, Ifu Enna...        Nigeria   \n",
       "\n",
       "     Release_Date Rating Duration                                  Genre  \\\n",
       "6300   2019-04-05  TV-MA   97 min  Dramas, Independent Movies, Thrillers   \n",
       "6622   2020-09-04  TV-MA   94 min   Comedies, Dramas, Independent Movies   \n",
       "\n",
       "                                            Description  Cast Count  \n",
       "6300  When two would-be robbers accidentally kill a ...         6.0  \n",
       "6622  A disillusioned security guard transforms into...        10.0  "
      ]
     },
     "execution_count": 10,
     "metadata": {},
     "output_type": "execute_result"
    }
   ],
   "source": [
    "# Look for duplicate rows\n",
    "df[df.duplicated()]"
   ]
  },
  {
   "cell_type": "code",
   "execution_count": 11,
   "id": "196d6e01",
   "metadata": {},
   "outputs": [
    {
     "data": {
      "text/html": [
       "<div>\n",
       "<style scoped>\n",
       "    .dataframe tbody tr th:only-of-type {\n",
       "        vertical-align: middle;\n",
       "    }\n",
       "\n",
       "    .dataframe tbody tr th {\n",
       "        vertical-align: top;\n",
       "    }\n",
       "\n",
       "    .dataframe thead th {\n",
       "        text-align: right;\n",
       "    }\n",
       "</style>\n",
       "<table border=\"1\" class=\"dataframe\">\n",
       "  <thead>\n",
       "    <tr style=\"text-align: right;\">\n",
       "      <th></th>\n",
       "      <th>Show_Id</th>\n",
       "      <th>Category</th>\n",
       "      <th>Title</th>\n",
       "      <th>Director</th>\n",
       "      <th>Cast</th>\n",
       "      <th>Country</th>\n",
       "      <th>Release_Date</th>\n",
       "      <th>Rating</th>\n",
       "      <th>Duration</th>\n",
       "      <th>Genre</th>\n",
       "      <th>Description</th>\n",
       "      <th>Cast Count</th>\n",
       "    </tr>\n",
       "  </thead>\n",
       "  <tbody>\n",
       "    <tr>\n",
       "      <th>683</th>\n",
       "      <td>s684</td>\n",
       "      <td>Movie</td>\n",
       "      <td>Backfire</td>\n",
       "      <td>Dave Patten</td>\n",
       "      <td>Black Deniro, Byron \"Squally\" Vinson, Dominic ...</td>\n",
       "      <td>United States</td>\n",
       "      <td>2019-04-05</td>\n",
       "      <td>TV-MA</td>\n",
       "      <td>97 min</td>\n",
       "      <td>Dramas, Independent Movies, Thrillers</td>\n",
       "      <td>When two would-be robbers accidentally kill a ...</td>\n",
       "      <td>6.0</td>\n",
       "    </tr>\n",
       "    <tr>\n",
       "      <th>4839</th>\n",
       "      <td>s6621</td>\n",
       "      <td>Movie</td>\n",
       "      <td>The Lost Okoroshi</td>\n",
       "      <td>Abba T. Makama</td>\n",
       "      <td>Seun Ajayi, Judith Audu, Tope Tedela, Ifu Enna...</td>\n",
       "      <td>Nigeria</td>\n",
       "      <td>2020-09-04</td>\n",
       "      <td>TV-MA</td>\n",
       "      <td>94 min</td>\n",
       "      <td>Comedies, Dramas, Independent Movies</td>\n",
       "      <td>A disillusioned security guard transforms into...</td>\n",
       "      <td>10.0</td>\n",
       "    </tr>\n",
       "    <tr>\n",
       "      <th>6300</th>\n",
       "      <td>s684</td>\n",
       "      <td>Movie</td>\n",
       "      <td>Backfire</td>\n",
       "      <td>Dave Patten</td>\n",
       "      <td>Black Deniro, Byron \"Squally\" Vinson, Dominic ...</td>\n",
       "      <td>United States</td>\n",
       "      <td>2019-04-05</td>\n",
       "      <td>TV-MA</td>\n",
       "      <td>97 min</td>\n",
       "      <td>Dramas, Independent Movies, Thrillers</td>\n",
       "      <td>When two would-be robbers accidentally kill a ...</td>\n",
       "      <td>6.0</td>\n",
       "    </tr>\n",
       "    <tr>\n",
       "      <th>6622</th>\n",
       "      <td>s6621</td>\n",
       "      <td>Movie</td>\n",
       "      <td>The Lost Okoroshi</td>\n",
       "      <td>Abba T. Makama</td>\n",
       "      <td>Seun Ajayi, Judith Audu, Tope Tedela, Ifu Enna...</td>\n",
       "      <td>Nigeria</td>\n",
       "      <td>2020-09-04</td>\n",
       "      <td>TV-MA</td>\n",
       "      <td>94 min</td>\n",
       "      <td>Comedies, Dramas, Independent Movies</td>\n",
       "      <td>A disillusioned security guard transforms into...</td>\n",
       "      <td>10.0</td>\n",
       "    </tr>\n",
       "  </tbody>\n",
       "</table>\n",
       "</div>"
      ],
      "text/plain": [
       "     Show_Id Category              Title        Director  \\\n",
       "683     s684    Movie           Backfire     Dave Patten   \n",
       "4839   s6621    Movie  The Lost Okoroshi  Abba T. Makama   \n",
       "6300    s684    Movie           Backfire     Dave Patten   \n",
       "6622   s6621    Movie  The Lost Okoroshi  Abba T. Makama   \n",
       "\n",
       "                                                   Cast        Country  \\\n",
       "683   Black Deniro, Byron \"Squally\" Vinson, Dominic ...  United States   \n",
       "4839  Seun Ajayi, Judith Audu, Tope Tedela, Ifu Enna...        Nigeria   \n",
       "6300  Black Deniro, Byron \"Squally\" Vinson, Dominic ...  United States   \n",
       "6622  Seun Ajayi, Judith Audu, Tope Tedela, Ifu Enna...        Nigeria   \n",
       "\n",
       "     Release_Date Rating Duration                                  Genre  \\\n",
       "683    2019-04-05  TV-MA   97 min  Dramas, Independent Movies, Thrillers   \n",
       "4839   2020-09-04  TV-MA   94 min   Comedies, Dramas, Independent Movies   \n",
       "6300   2019-04-05  TV-MA   97 min  Dramas, Independent Movies, Thrillers   \n",
       "6622   2020-09-04  TV-MA   94 min   Comedies, Dramas, Independent Movies   \n",
       "\n",
       "                                            Description  Cast Count  \n",
       "683   When two would-be robbers accidentally kill a ...         6.0  \n",
       "4839  A disillusioned security guard transforms into...        10.0  \n",
       "6300  When two would-be robbers accidentally kill a ...         6.0  \n",
       "6622  A disillusioned security guard transforms into...        10.0  "
      ]
     },
     "execution_count": 11,
     "metadata": {},
     "output_type": "execute_result"
    }
   ],
   "source": [
    "# Verify that these rows are infact duplicates\n",
    "df[(df[\"Show_Id\"] == \"s684\") | (df[\"Show_Id\"] == 's6621')]"
   ]
  },
  {
   "cell_type": "code",
   "execution_count": 12,
   "id": "bb8bf343-f7d0-4d0d-839e-9463855695fc",
   "metadata": {},
   "outputs": [],
   "source": [
    "# Remove those duplicates\n",
    "df.drop_duplicates(inplace=True)"
   ]
  },
  {
   "cell_type": "code",
   "execution_count": 13,
   "id": "e157c5fa",
   "metadata": {},
   "outputs": [
    {
     "name": "stdout",
     "output_type": "stream",
     "text": [
      "0\n"
     ]
    },
    {
     "data": {
      "text/html": [
       "<div>\n",
       "<style scoped>\n",
       "    .dataframe tbody tr th:only-of-type {\n",
       "        vertical-align: middle;\n",
       "    }\n",
       "\n",
       "    .dataframe tbody tr th {\n",
       "        vertical-align: top;\n",
       "    }\n",
       "\n",
       "    .dataframe thead th {\n",
       "        text-align: right;\n",
       "    }\n",
       "</style>\n",
       "<table border=\"1\" class=\"dataframe\">\n",
       "  <thead>\n",
       "    <tr style=\"text-align: right;\">\n",
       "      <th></th>\n",
       "      <th>Show_Id</th>\n",
       "      <th>Category</th>\n",
       "      <th>Title</th>\n",
       "      <th>Director</th>\n",
       "      <th>Cast</th>\n",
       "      <th>Country</th>\n",
       "      <th>Release_Date</th>\n",
       "      <th>Rating</th>\n",
       "      <th>Duration</th>\n",
       "      <th>Genre</th>\n",
       "      <th>Description</th>\n",
       "      <th>Cast Count</th>\n",
       "    </tr>\n",
       "  </thead>\n",
       "  <tbody>\n",
       "    <tr>\n",
       "      <th>683</th>\n",
       "      <td>s684</td>\n",
       "      <td>Movie</td>\n",
       "      <td>Backfire</td>\n",
       "      <td>Dave Patten</td>\n",
       "      <td>Black Deniro, Byron \"Squally\" Vinson, Dominic ...</td>\n",
       "      <td>United States</td>\n",
       "      <td>2019-04-05</td>\n",
       "      <td>TV-MA</td>\n",
       "      <td>97 min</td>\n",
       "      <td>Dramas, Independent Movies, Thrillers</td>\n",
       "      <td>When two would-be robbers accidentally kill a ...</td>\n",
       "      <td>6.0</td>\n",
       "    </tr>\n",
       "    <tr>\n",
       "      <th>4839</th>\n",
       "      <td>s6621</td>\n",
       "      <td>Movie</td>\n",
       "      <td>The Lost Okoroshi</td>\n",
       "      <td>Abba T. Makama</td>\n",
       "      <td>Seun Ajayi, Judith Audu, Tope Tedela, Ifu Enna...</td>\n",
       "      <td>Nigeria</td>\n",
       "      <td>2020-09-04</td>\n",
       "      <td>TV-MA</td>\n",
       "      <td>94 min</td>\n",
       "      <td>Comedies, Dramas, Independent Movies</td>\n",
       "      <td>A disillusioned security guard transforms into...</td>\n",
       "      <td>10.0</td>\n",
       "    </tr>\n",
       "  </tbody>\n",
       "</table>\n",
       "</div>"
      ],
      "text/plain": [
       "     Show_Id Category              Title        Director  \\\n",
       "683     s684    Movie           Backfire     Dave Patten   \n",
       "4839   s6621    Movie  The Lost Okoroshi  Abba T. Makama   \n",
       "\n",
       "                                                   Cast        Country  \\\n",
       "683   Black Deniro, Byron \"Squally\" Vinson, Dominic ...  United States   \n",
       "4839  Seun Ajayi, Judith Audu, Tope Tedela, Ifu Enna...        Nigeria   \n",
       "\n",
       "     Release_Date Rating Duration                                  Genre  \\\n",
       "683    2019-04-05  TV-MA   97 min  Dramas, Independent Movies, Thrillers   \n",
       "4839   2020-09-04  TV-MA   94 min   Comedies, Dramas, Independent Movies   \n",
       "\n",
       "                                            Description  Cast Count  \n",
       "683   When two would-be robbers accidentally kill a ...         6.0  \n",
       "4839  A disillusioned security guard transforms into...        10.0  "
      ]
     },
     "execution_count": 13,
     "metadata": {},
     "output_type": "execute_result"
    }
   ],
   "source": [
    "# Verify that the duplicates have been removed\n",
    "print(df.duplicated().sum())\n",
    "df[(df[\"Show_Id\"] == \"s684\") | (df[\"Show_Id\"] == 's6621')]"
   ]
  },
  {
   "cell_type": "markdown",
   "id": "3b65ef01",
   "metadata": {},
   "source": [
    "### Finding and handling null values"
   ]
  },
  {
   "cell_type": "code",
   "execution_count": 14,
   "id": "03c8e1f0-efdb-42d7-a090-b03eb23712da",
   "metadata": {},
   "outputs": [
    {
     "name": "stdout",
     "output_type": "stream",
     "text": [
      "Column Name | Total NULLs | Percent NULL\n",
      "Show_Id - 0 - 0.0%\n",
      "Category - 0 - 0.0%\n",
      "Title - 0 - 0.0%\n",
      "Director - 2388 - 30.67%\n",
      "Cast - 718 - 9.22%\n",
      "Country - 507 - 6.51%\n",
      "Release_Date - 10 - 0.13%\n",
      "Rating - 7 - 0.09%\n",
      "Duration - 0 - 0.0%\n",
      "Genre - 0 - 0.0%\n",
      "Description - 0 - 0.0%\n",
      "Cast Count - 718 - 9.22%\n"
     ]
    }
   ],
   "source": [
    "# Calculate percentage of null values in each column\n",
    "print(\"Column Name | Total NULLs | Percent NULL\")\n",
    "for i in df.columns:\n",
    "    total_null = df[i].isna().sum()\n",
    "    pct_null = round(df[i].isna().sum() * 100 / len(df[i]), 2)\n",
    "    print(f\"{i} - {total_null} - {pct_null}%\")"
   ]
  },
  {
   "cell_type": "markdown",
   "id": "cf7ea2c0-e3e7-4957-b0b0-8602daac44c1",
   "metadata": {},
   "source": [
    "<font size=\"3\">There is no need to remove any rows or columns since there are no rows in which all values are null and there is not a significant enough ratio of null values in any column.</font>"
   ]
  },
  {
   "cell_type": "markdown",
   "id": "e799daac-8e5c-4c3f-a447-5cb6e7721e7e",
   "metadata": {},
   "source": [
    "## Exploratory Data Analysis"
   ]
  },
  {
   "cell_type": "markdown",
   "id": "b0617df0-9f0c-4d7d-8993-1c9d1168334a",
   "metadata": {},
   "source": [
    "<font size=\"3\">Popular python libraries inluding Pandas, Matplotlib, Seaborn and Plotly will be used to draw insights and create visualisations from the imported Netflix dataset.</font>"
   ]
  },
  {
   "cell_type": "markdown",
   "id": "237a5c8b-a82c-4979-aaa7-a4b847aa419f",
   "metadata": {},
   "source": [
    "### Looking at 'Category'\n",
    "<font size=\"3\">The 'Category' field categorises Netflix content into two self-explanatory categories: Movies and TV Shows.</font>"
   ]
  },
  {
   "cell_type": "markdown",
   "id": "941ba584-147b-483c-bb0c-e28c285f5fbe",
   "metadata": {},
   "source": [
    "#### What is the split of movies to TV shows on Netflix?"
   ]
  },
  {
   "cell_type": "code",
   "execution_count": 15,
   "id": "287e9cf7-c471-42a6-8a46-ddaac09f11d6",
   "metadata": {},
   "outputs": [
    {
     "data": {
      "text/html": [
       "<div>\n",
       "<style scoped>\n",
       "    .dataframe tbody tr th:only-of-type {\n",
       "        vertical-align: middle;\n",
       "    }\n",
       "\n",
       "    .dataframe tbody tr th {\n",
       "        vertical-align: top;\n",
       "    }\n",
       "\n",
       "    .dataframe thead th {\n",
       "        text-align: right;\n",
       "    }\n",
       "</style>\n",
       "<table border=\"1\" class=\"dataframe\">\n",
       "  <thead>\n",
       "    <tr style=\"text-align: right;\">\n",
       "      <th></th>\n",
       "      <th>Category</th>\n",
       "      <th>Show_Id</th>\n",
       "    </tr>\n",
       "  </thead>\n",
       "  <tbody>\n",
       "    <tr>\n",
       "      <th>0</th>\n",
       "      <td>Movie</td>\n",
       "      <td>5377</td>\n",
       "    </tr>\n",
       "    <tr>\n",
       "      <th>1</th>\n",
       "      <td>TV Show</td>\n",
       "      <td>2410</td>\n",
       "    </tr>\n",
       "  </tbody>\n",
       "</table>\n",
       "</div>"
      ],
      "text/plain": [
       "  Category  Show_Id\n",
       "0    Movie     5377\n",
       "1  TV Show     2410"
      ]
     },
     "execution_count": 15,
     "metadata": {},
     "output_type": "execute_result"
    }
   ],
   "source": [
    "# Number of titles for each category\n",
    "category_titles = df.groupby('Category')[\"Show_Id\"].count().reset_index()\n",
    "category_titles"
   ]
  },
  {
   "cell_type": "code",
   "execution_count": 16,
   "id": "96885b51-2e07-49e4-953a-e01f0d320345",
   "metadata": {},
   "outputs": [
    {
     "data": {
      "image/png": "[encoded data removed]",
      "text/plain": [
       "<IPython.core.display.Image object>"
      ]
     },
     "execution_count": 16,
     "metadata": {},
     "output_type": "execute_result"
    }
   ],
   "source": [
    "fig = px.pie(category_titles, values=\"Show_Id\", names=\"Category\", title=\"<b>Split of content type on Netflix<b>\")\n",
    "fig.update_traces(textposition='inside', textinfo='percent+label')\n",
    "fig.update_layout(\n",
    "    margin=dict(t=70, b=35, l=0, r=0),\n",
    "    titlefont=dict(size=18, color='black', family='Arial, sans-serif'),\n",
    "    paper_bgcolor=\"LightSteelBlue\",\n",
    "    showlegend=False,\n",
    "    autosize=False,\n",
    "    width=1200, \n",
    "    height=400\n",
    ")\n",
    "fig.write_image(\"figures/TitlesByCategoryPie.png\")\n",
    "\n",
    "Image(filename=\"figures/TitlesByCategoryPie.png\")"
   ]
  },
  {
   "cell_type": "markdown",
   "id": "ba7ae551-a235-4afa-bfb1-493d1e9adc63",
   "metadata": {},
   "source": [
    "<font size=\"3\">With 69.1% of the titles on Netflix being movies, it is clear that there are significantly more movies available than tv shows. This surpasses a ratio of 2:1 for movies to TV shows.</font>"
   ]
  },
  {
   "cell_type": "markdown",
   "id": "942a891f-484c-416c-9db9-314efcdfb911",
   "metadata": {},
   "source": [
    "### Looking at 'Release_Date'\n",
    "<font size=\"3\">The 'Release_Date' field contains the date the content was added onto Netflix, spanning from the inception to the streaming platform to the most recent release.</font>"
   ]
  },
  {
   "cell_type": "markdown",
   "id": "970240a6-b0be-473a-b40a-d07b1e1664d8",
   "metadata": {},
   "source": [
    "#### What was the first piece of content released onto Netflix?"
   ]
  },
  {
   "cell_type": "code",
   "execution_count": 17,
   "id": "ac51a02f-59b0-466f-9ab7-828f4d7a9d86",
   "metadata": {},
   "outputs": [
    {
     "data": {
      "text/html": [
       "<div>\n",
       "<style scoped>\n",
       "    .dataframe tbody tr th:only-of-type {\n",
       "        vertical-align: middle;\n",
       "    }\n",
       "\n",
       "    .dataframe tbody tr th {\n",
       "        vertical-align: top;\n",
       "    }\n",
       "\n",
       "    .dataframe thead th {\n",
       "        text-align: right;\n",
       "    }\n",
       "</style>\n",
       "<table border=\"1\" class=\"dataframe\">\n",
       "  <thead>\n",
       "    <tr style=\"text-align: right;\">\n",
       "      <th></th>\n",
       "      <th>Show_Id</th>\n",
       "      <th>Category</th>\n",
       "      <th>Title</th>\n",
       "      <th>Director</th>\n",
       "      <th>Cast</th>\n",
       "      <th>Country</th>\n",
       "      <th>Release_Date</th>\n",
       "      <th>Rating</th>\n",
       "      <th>Duration</th>\n",
       "      <th>Genre</th>\n",
       "      <th>Description</th>\n",
       "      <th>Cast Count</th>\n",
       "    </tr>\n",
       "  </thead>\n",
       "  <tbody>\n",
       "    <tr>\n",
       "      <th>7115</th>\n",
       "      <td>s7114</td>\n",
       "      <td>Movie</td>\n",
       "      <td>To and From New York</td>\n",
       "      <td>Sorin Dan Mihalcescu</td>\n",
       "      <td>Barbara King, Shaana Diya, John Krisiukenas, Y...</td>\n",
       "      <td>United States</td>\n",
       "      <td>2008-01-01</td>\n",
       "      <td>TV-MA</td>\n",
       "      <td>81 min</td>\n",
       "      <td>Dramas, Independent Movies, Thrillers</td>\n",
       "      <td>While covering a story in New York City, a Sea...</td>\n",
       "      <td>6.0</td>\n",
       "    </tr>\n",
       "  </tbody>\n",
       "</table>\n",
       "</div>"
      ],
      "text/plain": [
       "     Show_Id Category                 Title              Director  \\\n",
       "7115   s7114    Movie  To and From New York  Sorin Dan Mihalcescu   \n",
       "\n",
       "                                                   Cast        Country  \\\n",
       "7115  Barbara King, Shaana Diya, John Krisiukenas, Y...  United States   \n",
       "\n",
       "     Release_Date Rating Duration                                  Genre  \\\n",
       "7115   2008-01-01  TV-MA   81 min  Dramas, Independent Movies, Thrillers   \n",
       "\n",
       "                                            Description  Cast Count  \n",
       "7115  While covering a story in New York City, a Sea...         6.0  "
      ]
     },
     "execution_count": 17,
     "metadata": {},
     "output_type": "execute_result"
    }
   ],
   "source": [
    "df[df[\"Release_Date\"] == df[\"Release_Date\"].min()]"
   ]
  },
  {
   "cell_type": "markdown",
   "id": "c84cfd50-e698-47fe-bbba-3d4dfc6f9c38",
   "metadata": {},
   "source": [
    "<font size=\"3\">The movie titled 'To and From New York' was the first piece of content Netflix released onto their streaming platform on the 1st of January 2008.</font>"
   ]
  },
  {
   "cell_type": "markdown",
   "id": "14976a7a-bcec-45ca-966e-e68bfb5f5dd5",
   "metadata": {},
   "source": [
    "#### How has the amount of content being released onto Netflix changed over time?"
   ]
  },
  {
   "cell_type": "code",
   "execution_count": 18,
   "id": "20a73143-acbc-447c-9b02-1fcc9be6233f",
   "metadata": {},
   "outputs": [
    {
     "data": {
      "text/html": [
       "<div>\n",
       "<style scoped>\n",
       "    .dataframe tbody tr th:only-of-type {\n",
       "        vertical-align: middle;\n",
       "    }\n",
       "\n",
       "    .dataframe tbody tr th {\n",
       "        vertical-align: top;\n",
       "    }\n",
       "\n",
       "    .dataframe thead th {\n",
       "        text-align: right;\n",
       "    }\n",
       "</style>\n",
       "<table border=\"1\" class=\"dataframe\">\n",
       "  <thead>\n",
       "    <tr style=\"text-align: right;\">\n",
       "      <th></th>\n",
       "      <th>Release_Date</th>\n",
       "      <th>Count</th>\n",
       "    </tr>\n",
       "  </thead>\n",
       "  <tbody>\n",
       "    <tr>\n",
       "      <th>0</th>\n",
       "      <td>2008-01-01</td>\n",
       "      <td>1</td>\n",
       "    </tr>\n",
       "    <tr>\n",
       "      <th>1</th>\n",
       "      <td>2008-02-04</td>\n",
       "      <td>2</td>\n",
       "    </tr>\n",
       "    <tr>\n",
       "      <th>2</th>\n",
       "      <td>2009-05-05</td>\n",
       "      <td>3</td>\n",
       "    </tr>\n",
       "    <tr>\n",
       "      <th>3</th>\n",
       "      <td>2009-11-18</td>\n",
       "      <td>4</td>\n",
       "    </tr>\n",
       "    <tr>\n",
       "      <th>4</th>\n",
       "      <td>2010-11-01</td>\n",
       "      <td>5</td>\n",
       "    </tr>\n",
       "    <tr>\n",
       "      <th>...</th>\n",
       "      <td>...</td>\n",
       "      <td>...</td>\n",
       "    </tr>\n",
       "    <tr>\n",
       "      <th>1507</th>\n",
       "      <td>2021-01-12</td>\n",
       "      <td>7755</td>\n",
       "    </tr>\n",
       "    <tr>\n",
       "      <th>1508</th>\n",
       "      <td>2021-01-13</td>\n",
       "      <td>7757</td>\n",
       "    </tr>\n",
       "    <tr>\n",
       "      <th>1509</th>\n",
       "      <td>2021-01-14</td>\n",
       "      <td>7759</td>\n",
       "    </tr>\n",
       "    <tr>\n",
       "      <th>1510</th>\n",
       "      <td>2021-01-15</td>\n",
       "      <td>7774</td>\n",
       "    </tr>\n",
       "    <tr>\n",
       "      <th>1511</th>\n",
       "      <td>2021-01-16</td>\n",
       "      <td>7777</td>\n",
       "    </tr>\n",
       "  </tbody>\n",
       "</table>\n",
       "<p>1512 rows × 2 columns</p>\n",
       "</div>"
      ],
      "text/plain": [
       "     Release_Date  Count\n",
       "0      2008-01-01      1\n",
       "1      2008-02-04      2\n",
       "2      2009-05-05      3\n",
       "3      2009-11-18      4\n",
       "4      2010-11-01      5\n",
       "...           ...    ...\n",
       "1507   2021-01-12   7755\n",
       "1508   2021-01-13   7757\n",
       "1509   2021-01-14   7759\n",
       "1510   2021-01-15   7774\n",
       "1511   2021-01-16   7777\n",
       "\n",
       "[1512 rows x 2 columns]"
      ]
     },
     "execution_count": 18,
     "metadata": {},
     "output_type": "execute_result"
    }
   ],
   "source": [
    "# Count the cumulative number of releases over time\n",
    "cumulative_releases_df = df.groupby('Release_Date')[\"Release_Date\"].count().cumsum().reset_index(name=\"Count\")\n",
    "cumulative_releases_df"
   ]
  },
  {
   "cell_type": "code",
   "execution_count": 19,
   "id": "b661a93a-6be0-4718-8a7a-0d86794d89fe",
   "metadata": {},
   "outputs": [
    {
     "data": {
      "image/png": "[encoded data removed]",
      "text/plain": [
       "<Figure size 1440x504 with 1 Axes>"
      ]
     },
     "metadata": {},
     "output_type": "display_data"
    }
   ],
   "source": [
    "plt.figure(figsize=(20, 7))\n",
    "sns.lineplot(data=cumulative_releases_df, x=\"Release_Date\", y=\"Count\")\n",
    "plt.title(\"Netflix content releases over time\", size=18)\n",
    "plt.xlabel(\"Release Date\", size=16)\n",
    "plt.ylabel(\"Movies/TV Shows\", size=16)\n",
    "plt.show()"
   ]
  },
  {
   "cell_type": "markdown",
   "id": "0729d164-ceb4-4af1-b875-d08607702cd0",
   "metadata": {},
   "source": [
    "<font size=\"3\">Most of the movies and TV shows available on Netflix have been released in recent years and there is seemingly an effort to release more and more content onto the platform each year.</font>"
   ]
  },
  {
   "cell_type": "markdown",
   "id": "64cf8988-27e4-44c6-955d-5f1a2f674efc",
   "metadata": {},
   "source": [
    "#### How are content releases on Netflix distributed throughout the month?"
   ]
  },
  {
   "cell_type": "code",
   "execution_count": 20,
   "id": "98367f5d-44c8-4339-a798-aff34a4b4f3b",
   "metadata": {},
   "outputs": [
    {
     "data": {
      "text/html": [
       "<div>\n",
       "<style scoped>\n",
       "    .dataframe tbody tr th:only-of-type {\n",
       "        vertical-align: middle;\n",
       "    }\n",
       "\n",
       "    .dataframe tbody tr th {\n",
       "        vertical-align: top;\n",
       "    }\n",
       "\n",
       "    .dataframe thead th {\n",
       "        text-align: right;\n",
       "    }\n",
       "</style>\n",
       "<table border=\"1\" class=\"dataframe\">\n",
       "  <thead>\n",
       "    <tr style=\"text-align: right;\">\n",
       "      <th></th>\n",
       "      <th>Release_Date</th>\n",
       "      <th>Count</th>\n",
       "    </tr>\n",
       "  </thead>\n",
       "  <tbody>\n",
       "    <tr>\n",
       "      <th>0</th>\n",
       "      <td>1.0</td>\n",
       "      <td>2069</td>\n",
       "    </tr>\n",
       "    <tr>\n",
       "      <th>1</th>\n",
       "      <td>2.0</td>\n",
       "      <td>247</td>\n",
       "    </tr>\n",
       "    <tr>\n",
       "      <th>2</th>\n",
       "      <td>3.0</td>\n",
       "      <td>127</td>\n",
       "    </tr>\n",
       "    <tr>\n",
       "      <th>3</th>\n",
       "      <td>4.0</td>\n",
       "      <td>151</td>\n",
       "    </tr>\n",
       "    <tr>\n",
       "      <th>4</th>\n",
       "      <td>5.0</td>\n",
       "      <td>207</td>\n",
       "    </tr>\n",
       "  </tbody>\n",
       "</table>\n",
       "</div>"
      ],
      "text/plain": [
       "   Release_Date  Count\n",
       "0           1.0   2069\n",
       "1           2.0    247\n",
       "2           3.0    127\n",
       "3           4.0    151\n",
       "4           5.0    207"
      ]
     },
     "execution_count": 20,
     "metadata": {},
     "output_type": "execute_result"
    }
   ],
   "source": [
    "# Group total releases by day of the month\n",
    "sorted_df = df.groupby(df[\"Release_Date\"].dt.day)[\"Release_Date\"].count().reset_index(name=\"Count\")\n",
    "sorted_df.head()"
   ]
  },
  {
   "cell_type": "code",
   "execution_count": 21,
   "id": "6b2a8999-cc05-488c-bbcf-0b6df5bfd959",
   "metadata": {},
   "outputs": [
    {
     "data": {
      "image/png": "[encoded data removed]",
      "text/plain": [
       "<Figure size 1440x360 with 1 Axes>"
      ]
     },
     "metadata": {},
     "output_type": "display_data"
    }
   ],
   "source": [
    "plt.figure(figsize=(20, 5))\n",
    "sns.barplot(data=sorted_df, x=sorted_df[\"Release_Date\"].astype('int8'), y=\"Count\")\n",
    "plt.title(\"Number of releases by Day of the Month\", size=18)\n",
    "plt.xlabel(\"Day of the Month\", size=16)\n",
    "plt.ylabel(\"Movies/TV Shows\", size=16)\n",
    "plt.show()"
   ]
  },
  {
   "cell_type": "markdown",
   "id": "00866b76-1230-4c8c-be4f-259ea5e12b42",
   "metadata": {},
   "source": [
    "<font size=\"3\">A disproportionate amount of movies and TV shows are released on the first day of each month and it is clear that it is Netflix's intention. The same is true when looking at the 15th day of each month, but this is to a lesser extent.</font>"
   ]
  },
  {
   "cell_type": "markdown",
   "id": "2e44d45c-07e4-4ecd-89d3-b1ebce401b6f",
   "metadata": {},
   "source": [
    "#### How does the total number of movies and TV shows released each year compare?"
   ]
  },
  {
   "cell_type": "code",
   "execution_count": 22,
   "id": "f19de579-f709-453b-a51b-8f3e9293d04f",
   "metadata": {},
   "outputs": [
    {
     "data": {
      "text/html": [
       "<div>\n",
       "<style scoped>\n",
       "    .dataframe tbody tr th:only-of-type {\n",
       "        vertical-align: middle;\n",
       "    }\n",
       "\n",
       "    .dataframe tbody tr th {\n",
       "        vertical-align: top;\n",
       "    }\n",
       "\n",
       "    .dataframe thead th {\n",
       "        text-align: right;\n",
       "    }\n",
       "</style>\n",
       "<table border=\"1\" class=\"dataframe\">\n",
       "  <thead>\n",
       "    <tr style=\"text-align: right;\">\n",
       "      <th></th>\n",
       "      <th>Category</th>\n",
       "      <th>Release_Date</th>\n",
       "      <th>Releases</th>\n",
       "    </tr>\n",
       "  </thead>\n",
       "  <tbody>\n",
       "    <tr>\n",
       "      <th>0</th>\n",
       "      <td>Movie</td>\n",
       "      <td>2008</td>\n",
       "      <td>1</td>\n",
       "    </tr>\n",
       "    <tr>\n",
       "      <th>1</th>\n",
       "      <td>Movie</td>\n",
       "      <td>2009</td>\n",
       "      <td>2</td>\n",
       "    </tr>\n",
       "    <tr>\n",
       "      <th>2</th>\n",
       "      <td>Movie</td>\n",
       "      <td>2010</td>\n",
       "      <td>1</td>\n",
       "    </tr>\n",
       "    <tr>\n",
       "      <th>3</th>\n",
       "      <td>Movie</td>\n",
       "      <td>2011</td>\n",
       "      <td>13</td>\n",
       "    </tr>\n",
       "    <tr>\n",
       "      <th>4</th>\n",
       "      <td>Movie</td>\n",
       "      <td>2012</td>\n",
       "      <td>3</td>\n",
       "    </tr>\n",
       "  </tbody>\n",
       "</table>\n",
       "</div>"
      ],
      "text/plain": [
       "  Category  Release_Date  Releases\n",
       "0    Movie          2008         1\n",
       "1    Movie          2009         2\n",
       "2    Movie          2010         1\n",
       "3    Movie          2011        13\n",
       "4    Movie          2012         3"
      ]
     },
     "execution_count": 22,
     "metadata": {},
     "output_type": "execute_result"
    }
   ],
   "source": [
    "# Count total yearly releases for each category\n",
    "releases_by_year = df.groupby([\"Category\", df[\"Release_Date\"].dt.year])[\"Show_Id\"].count().reset_index(name=\"Releases\")\n",
    "releases_by_year[\"Release_Date\"] = releases_by_year[\"Release_Date\"].astype('int32')\n",
    "releases_by_year.head(5)"
   ]
  },
  {
   "cell_type": "code",
   "execution_count": 23,
   "id": "8458436d-4bfe-4c28-bf79-e0724d9aed97",
   "metadata": {},
   "outputs": [
    {
     "data": {
      "image/png": "[encoded data removed]",
      "text/plain": [
       "<Figure size 1080x432 with 1 Axes>"
      ]
     },
     "metadata": {},
     "output_type": "display_data"
    }
   ],
   "source": [
    "plt.figure(figsize=(15, 6))\n",
    "sns.barplot(x=\"Release_Date\", y=\"Releases\", hue=\"Category\", data=releases_by_year)\n",
    "plt.title(\"Netflix content releases by Year and Category\", size=18)\n",
    "plt.xlabel(\"Release Year\", size=16)\n",
    "plt.ylabel(\"Releases\", size=16)\n",
    "plt.show()"
   ]
  },
  {
   "cell_type": "markdown",
   "id": "bb565bbf-bba9-4eb9-84ac-71e6045d8b84",
   "metadata": {},
   "source": [
    "<font size=\"3\">It is evident that Netflix consistently releases a significantly higher number of movies than TV shows. Irregardless of category there is an increase in the amount of content being released onto the streaming platform each year.</font>"
   ]
  },
  {
   "cell_type": "markdown",
   "id": "f432fa0c-dab2-4696-8b47-519e23a27e75",
   "metadata": {},
   "source": [
    "### Looking at 'Country'\n",
    "<font size=\"3\">The 'Country' field contains a list of the countries in which the production of the movie/TV show took place.</font>"
   ]
  },
  {
   "cell_type": "markdown",
   "id": "4aa678ca-cdc3-4d82-9c75-d9c16fba71ff",
   "metadata": {},
   "source": [
    "#### How many productions has each country participated in?"
   ]
  },
  {
   "cell_type": "code",
   "execution_count": 24,
   "id": "5324eb7e-0dac-4308-b4bc-a38242b45ee3",
   "metadata": {},
   "outputs": [
    {
     "data": {
      "text/html": [
       "<div>\n",
       "<style scoped>\n",
       "    .dataframe tbody tr th:only-of-type {\n",
       "        vertical-align: middle;\n",
       "    }\n",
       "\n",
       "    .dataframe tbody tr th {\n",
       "        vertical-align: top;\n",
       "    }\n",
       "\n",
       "    .dataframe thead th {\n",
       "        text-align: right;\n",
       "    }\n",
       "</style>\n",
       "<table border=\"1\" class=\"dataframe\">\n",
       "  <thead>\n",
       "    <tr style=\"text-align: right;\">\n",
       "      <th></th>\n",
       "      <th>Show_Id</th>\n",
       "      <th>Category</th>\n",
       "      <th>Title</th>\n",
       "      <th>Director</th>\n",
       "      <th>Cast</th>\n",
       "      <th>Country</th>\n",
       "      <th>Release_Date</th>\n",
       "      <th>Rating</th>\n",
       "      <th>Duration</th>\n",
       "      <th>Genre</th>\n",
       "      <th>Description</th>\n",
       "      <th>Cast Count</th>\n",
       "    </tr>\n",
       "  </thead>\n",
       "  <tbody>\n",
       "    <tr>\n",
       "      <th>0</th>\n",
       "      <td>s1</td>\n",
       "      <td>TV Show</td>\n",
       "      <td>3%</td>\n",
       "      <td>NaN</td>\n",
       "      <td>João Miguel, Bianca Comparato, Michel Gomes, R...</td>\n",
       "      <td>Brazil</td>\n",
       "      <td>2020-08-14</td>\n",
       "      <td>TV-MA</td>\n",
       "      <td>4 Seasons</td>\n",
       "      <td>International TV Shows, TV Dramas, TV Sci-Fi &amp;...</td>\n",
       "      <td>In a future where the elite inhabit an island ...</td>\n",
       "      <td>11.0</td>\n",
       "    </tr>\n",
       "    <tr>\n",
       "      <th>1</th>\n",
       "      <td>s2</td>\n",
       "      <td>Movie</td>\n",
       "      <td>07:19</td>\n",
       "      <td>Jorge Michel Grau</td>\n",
       "      <td>Demián Bichir, Héctor Bonilla, Oscar Serrano, ...</td>\n",
       "      <td>Mexico</td>\n",
       "      <td>2016-12-23</td>\n",
       "      <td>TV-MA</td>\n",
       "      <td>93 min</td>\n",
       "      <td>Dramas, International Movies</td>\n",
       "      <td>After a devastating earthquake hits Mexico Cit...</td>\n",
       "      <td>6.0</td>\n",
       "    </tr>\n",
       "    <tr>\n",
       "      <th>2</th>\n",
       "      <td>s3</td>\n",
       "      <td>Movie</td>\n",
       "      <td>23:59</td>\n",
       "      <td>Gilbert Chan</td>\n",
       "      <td>Tedd Chan, Stella Chung, Henley Hii, Lawrence ...</td>\n",
       "      <td>Singapore</td>\n",
       "      <td>2018-12-20</td>\n",
       "      <td>R</td>\n",
       "      <td>78 min</td>\n",
       "      <td>Horror Movies, International Movies</td>\n",
       "      <td>When an army recruit is found dead, his fellow...</td>\n",
       "      <td>9.0</td>\n",
       "    </tr>\n",
       "    <tr>\n",
       "      <th>3</th>\n",
       "      <td>s4</td>\n",
       "      <td>Movie</td>\n",
       "      <td>9</td>\n",
       "      <td>Shane Acker</td>\n",
       "      <td>Elijah Wood, John C. Reilly, Jennifer Connelly...</td>\n",
       "      <td>United States</td>\n",
       "      <td>2017-11-16</td>\n",
       "      <td>PG-13</td>\n",
       "      <td>80 min</td>\n",
       "      <td>Action &amp; Adventure, Independent Movies, Sci-Fi...</td>\n",
       "      <td>In a postapocalyptic world, rag-doll robots hi...</td>\n",
       "      <td>9.0</td>\n",
       "    </tr>\n",
       "    <tr>\n",
       "      <th>4</th>\n",
       "      <td>s5</td>\n",
       "      <td>Movie</td>\n",
       "      <td>21</td>\n",
       "      <td>Robert Luketic</td>\n",
       "      <td>Jim Sturgess, Kevin Spacey, Kate Bosworth, Aar...</td>\n",
       "      <td>United States</td>\n",
       "      <td>2020-01-01</td>\n",
       "      <td>PG-13</td>\n",
       "      <td>123 min</td>\n",
       "      <td>Dramas</td>\n",
       "      <td>A brilliant group of students become card-coun...</td>\n",
       "      <td>12.0</td>\n",
       "    </tr>\n",
       "  </tbody>\n",
       "</table>\n",
       "</div>"
      ],
      "text/plain": [
       "  Show_Id Category  Title           Director  \\\n",
       "0      s1  TV Show     3%                NaN   \n",
       "1      s2    Movie  07:19  Jorge Michel Grau   \n",
       "2      s3    Movie  23:59       Gilbert Chan   \n",
       "3      s4    Movie      9        Shane Acker   \n",
       "4      s5    Movie     21     Robert Luketic   \n",
       "\n",
       "                                                Cast        Country  \\\n",
       "0  João Miguel, Bianca Comparato, Michel Gomes, R...         Brazil   \n",
       "1  Demián Bichir, Héctor Bonilla, Oscar Serrano, ...         Mexico   \n",
       "2  Tedd Chan, Stella Chung, Henley Hii, Lawrence ...      Singapore   \n",
       "3  Elijah Wood, John C. Reilly, Jennifer Connelly...  United States   \n",
       "4  Jim Sturgess, Kevin Spacey, Kate Bosworth, Aar...  United States   \n",
       "\n",
       "  Release_Date Rating   Duration  \\\n",
       "0   2020-08-14  TV-MA  4 Seasons   \n",
       "1   2016-12-23  TV-MA     93 min   \n",
       "2   2018-12-20      R     78 min   \n",
       "3   2017-11-16  PG-13     80 min   \n",
       "4   2020-01-01  PG-13    123 min   \n",
       "\n",
       "                                               Genre  \\\n",
       "0  International TV Shows, TV Dramas, TV Sci-Fi &...   \n",
       "1                       Dramas, International Movies   \n",
       "2                Horror Movies, International Movies   \n",
       "3  Action & Adventure, Independent Movies, Sci-Fi...   \n",
       "4                                             Dramas   \n",
       "\n",
       "                                         Description  Cast Count  \n",
       "0  In a future where the elite inhabit an island ...        11.0  \n",
       "1  After a devastating earthquake hits Mexico Cit...         6.0  \n",
       "2  When an army recruit is found dead, his fellow...         9.0  \n",
       "3  In a postapocalyptic world, rag-doll robots hi...         9.0  \n",
       "4  A brilliant group of students become card-coun...        12.0  "
      ]
     },
     "execution_count": 24,
     "metadata": {},
     "output_type": "execute_result"
    }
   ],
   "source": [
    "full_country_list = df.copy()\n",
    "\n",
    "full_country_list[\"Country\"] = full_country_list[\"Country\"].str.split(', ')\n",
    "full_country_list = full_country_list.explode('Country')\n",
    "df.head()"
   ]
  },
  {
   "cell_type": "code",
   "execution_count": 25,
   "id": "8be83043-5653-4382-96f3-17f6dc682b01",
   "metadata": {},
   "outputs": [
    {
     "data": {
      "text/html": [
       "<div>\n",
       "<style scoped>\n",
       "    .dataframe tbody tr th:only-of-type {\n",
       "        vertical-align: middle;\n",
       "    }\n",
       "\n",
       "    .dataframe tbody tr th {\n",
       "        vertical-align: top;\n",
       "    }\n",
       "\n",
       "    .dataframe thead th {\n",
       "        text-align: right;\n",
       "    }\n",
       "</style>\n",
       "<table border=\"1\" class=\"dataframe\">\n",
       "  <thead>\n",
       "    <tr style=\"text-align: right;\">\n",
       "      <th></th>\n",
       "      <th>Country</th>\n",
       "      <th>Count</th>\n",
       "    </tr>\n",
       "  </thead>\n",
       "  <tbody>\n",
       "    <tr>\n",
       "      <th>113</th>\n",
       "      <td>United States</td>\n",
       "      <td>3296</td>\n",
       "    </tr>\n",
       "    <tr>\n",
       "      <th>43</th>\n",
       "      <td>India</td>\n",
       "      <td>990</td>\n",
       "    </tr>\n",
       "    <tr>\n",
       "      <th>111</th>\n",
       "      <td>United Kingdom</td>\n",
       "      <td>722</td>\n",
       "    </tr>\n",
       "    <tr>\n",
       "      <th>19</th>\n",
       "      <td>Canada</td>\n",
       "      <td>412</td>\n",
       "    </tr>\n",
       "    <tr>\n",
       "      <th>34</th>\n",
       "      <td>France</td>\n",
       "      <td>349</td>\n",
       "    </tr>\n",
       "    <tr>\n",
       "      <th>...</th>\n",
       "      <td>...</td>\n",
       "      <td>...</td>\n",
       "    </tr>\n",
       "    <tr>\n",
       "      <th>53</th>\n",
       "      <td>Kazakhstan</td>\n",
       "      <td>1</td>\n",
       "    </tr>\n",
       "    <tr>\n",
       "      <th>50</th>\n",
       "      <td>Jamaica</td>\n",
       "      <td>1</td>\n",
       "    </tr>\n",
       "    <tr>\n",
       "      <th>93</th>\n",
       "      <td>Slovakia</td>\n",
       "      <td>1</td>\n",
       "    </tr>\n",
       "    <tr>\n",
       "      <th>95</th>\n",
       "      <td>Somalia</td>\n",
       "      <td>1</td>\n",
       "    </tr>\n",
       "    <tr>\n",
       "      <th>0</th>\n",
       "      <td>Afghanistan</td>\n",
       "      <td>1</td>\n",
       "    </tr>\n",
       "  </tbody>\n",
       "</table>\n",
       "<p>121 rows × 2 columns</p>\n",
       "</div>"
      ],
      "text/plain": [
       "            Country  Count\n",
       "113   United States   3296\n",
       "43            India    990\n",
       "111  United Kingdom    722\n",
       "19           Canada    412\n",
       "34           France    349\n",
       "..              ...    ...\n",
       "53       Kazakhstan      1\n",
       "50          Jamaica      1\n",
       "93         Slovakia      1\n",
       "95          Somalia      1\n",
       "0       Afghanistan      1\n",
       "\n",
       "[121 rows x 2 columns]"
      ]
     },
     "execution_count": 25,
     "metadata": {},
     "output_type": "execute_result"
    }
   ],
   "source": [
    "# Count total number of movies/TV shows for each country\n",
    "titles_by_country = full_country_list.groupby('Country')[\"Show_Id\"].count().reset_index(name=\"Count\").sort_values('Count', ascending=False)\n",
    "titles_by_country"
   ]
  },
  {
   "cell_type": "code",
   "execution_count": 26,
   "id": "9066bfb3-3a31-40a2-809a-c8cd7454a402",
   "metadata": {},
   "outputs": [
    {
     "data": {
      "image/png": "[encoded data removed]",
      "text/plain": [
       "<IPython.core.display.Image object>"
      ]
     },
     "execution_count": 26,
     "metadata": {},
     "output_type": "execute_result"
    }
   ],
   "source": [
    "fig = px.choropleth(\n",
    "    data_frame=titles_by_country, \n",
    "    locations=\"Country\", \n",
    "    locationmode=\"country names\",\n",
    "    color=\"Count\", \n",
    "    title=\"<b>Total content releases by Country</b>\",\n",
    "    width=1300,\n",
    "    height=600\n",
    ")\n",
    "fig.write_image(\"figures/ReleasesByCountry.png\")\n",
    "\n",
    "Image(filename=\"figures/ReleasesByCountry.png\")"
   ]
  },
  {
   "cell_type": "markdown",
   "id": "c50e765f-dc2a-40a9-80f1-217b255eb61d",
   "metadata": {},
   "source": [
    "<font size=\"3\">It is clear that, by a significant margin, the United States has produced the most movies and TV shows available on Netflix. The extent of this dominance is visible in the above choropleth, which shows the United States has output 3x the amount of content produced by the runner up India.</font>"
   ]
  },
  {
   "cell_type": "markdown",
   "id": "d922b654-416e-483e-9843-d503dbcec1c1",
   "metadata": {},
   "source": [
    "#### How do the top producing countries compare for movies and TV shows?"
   ]
  },
  {
   "cell_type": "code",
   "execution_count": 27,
   "id": "7279c0d1-726f-4592-8f44-a6f11fa57312",
   "metadata": {},
   "outputs": [],
   "source": [
    "# Count number of releases for each country grouped by category\n",
    "category_country_releases = full_country_list.groupby([\"Category\", 'Country'])[\"Show_Id\"].count().reset_index(name=\"Releases\")\n",
    "\n",
    "# Combine list of categorised releases with total country releases\n",
    "category_country_releases = pd.merge(left=titles_by_country, right=category_country_releases, on=\"Country\", how=\"inner\")"
   ]
  },
  {
   "cell_type": "code",
   "execution_count": 28,
   "id": "5196d3e9-c1cf-4cfb-abed-8c83d3ba9cb8",
   "metadata": {},
   "outputs": [
    {
     "data": {
      "text/html": [
       "<div>\n",
       "<style scoped>\n",
       "    .dataframe tbody tr th:only-of-type {\n",
       "        vertical-align: middle;\n",
       "    }\n",
       "\n",
       "    .dataframe tbody tr th {\n",
       "        vertical-align: top;\n",
       "    }\n",
       "\n",
       "    .dataframe thead th {\n",
       "        text-align: right;\n",
       "    }\n",
       "</style>\n",
       "<table border=\"1\" class=\"dataframe\">\n",
       "  <thead>\n",
       "    <tr style=\"text-align: right;\">\n",
       "      <th></th>\n",
       "      <th>Country</th>\n",
       "      <th>Count</th>\n",
       "      <th>Category</th>\n",
       "      <th>Releases</th>\n",
       "      <th>rank</th>\n",
       "    </tr>\n",
       "  </thead>\n",
       "  <tbody>\n",
       "    <tr>\n",
       "      <th>0</th>\n",
       "      <td>United States</td>\n",
       "      <td>3296</td>\n",
       "      <td>Movie</td>\n",
       "      <td>2430</td>\n",
       "      <td>1.0</td>\n",
       "    </tr>\n",
       "    <tr>\n",
       "      <th>1</th>\n",
       "      <td>United States</td>\n",
       "      <td>3296</td>\n",
       "      <td>TV Show</td>\n",
       "      <td>866</td>\n",
       "      <td>1.0</td>\n",
       "    </tr>\n",
       "    <tr>\n",
       "      <th>2</th>\n",
       "      <td>India</td>\n",
       "      <td>990</td>\n",
       "      <td>Movie</td>\n",
       "      <td>915</td>\n",
       "      <td>2.0</td>\n",
       "    </tr>\n",
       "    <tr>\n",
       "      <th>3</th>\n",
       "      <td>India</td>\n",
       "      <td>990</td>\n",
       "      <td>TV Show</td>\n",
       "      <td>75</td>\n",
       "      <td>2.0</td>\n",
       "    </tr>\n",
       "    <tr>\n",
       "      <th>4</th>\n",
       "      <td>United Kingdom</td>\n",
       "      <td>722</td>\n",
       "      <td>Movie</td>\n",
       "      <td>466</td>\n",
       "      <td>3.0</td>\n",
       "    </tr>\n",
       "    <tr>\n",
       "      <th>5</th>\n",
       "      <td>United Kingdom</td>\n",
       "      <td>722</td>\n",
       "      <td>TV Show</td>\n",
       "      <td>256</td>\n",
       "      <td>3.0</td>\n",
       "    </tr>\n",
       "    <tr>\n",
       "      <th>6</th>\n",
       "      <td>Canada</td>\n",
       "      <td>412</td>\n",
       "      <td>Movie</td>\n",
       "      <td>286</td>\n",
       "      <td>4.0</td>\n",
       "    </tr>\n",
       "    <tr>\n",
       "      <th>7</th>\n",
       "      <td>Canada</td>\n",
       "      <td>412</td>\n",
       "      <td>TV Show</td>\n",
       "      <td>126</td>\n",
       "      <td>4.0</td>\n",
       "    </tr>\n",
       "    <tr>\n",
       "      <th>8</th>\n",
       "      <td>France</td>\n",
       "      <td>349</td>\n",
       "      <td>Movie</td>\n",
       "      <td>265</td>\n",
       "      <td>5.0</td>\n",
       "    </tr>\n",
       "    <tr>\n",
       "      <th>9</th>\n",
       "      <td>France</td>\n",
       "      <td>349</td>\n",
       "      <td>TV Show</td>\n",
       "      <td>84</td>\n",
       "      <td>5.0</td>\n",
       "    </tr>\n",
       "  </tbody>\n",
       "</table>\n",
       "</div>"
      ],
      "text/plain": [
       "          Country  Count Category  Releases  rank\n",
       "0   United States   3296    Movie      2430   1.0\n",
       "1   United States   3296  TV Show       866   1.0\n",
       "2           India    990    Movie       915   2.0\n",
       "3           India    990  TV Show        75   2.0\n",
       "4  United Kingdom    722    Movie       466   3.0\n",
       "5  United Kingdom    722  TV Show       256   3.0\n",
       "6          Canada    412    Movie       286   4.0\n",
       "7          Canada    412  TV Show       126   4.0\n",
       "8          France    349    Movie       265   5.0\n",
       "9          France    349  TV Show        84   5.0"
      ]
     },
     "execution_count": 28,
     "metadata": {},
     "output_type": "execute_result"
    }
   ],
   "source": [
    "# Rank total number of releases for each country\n",
    "category_country_releases[\"rank\"] = category_country_releases[\"Count\"].rank(method=\"dense\", ascending=False)\n",
    "\n",
    "# Filter to only include top 5 producing countries\n",
    "category_country_releases = category_country_releases[category_country_releases[\"rank\"] <= 5]\n",
    "category_country_releases"
   ]
  },
  {
   "cell_type": "code",
   "execution_count": 29,
   "id": "d94a29fe-1d75-4038-a2ca-d8b8ff9876fb",
   "metadata": {},
   "outputs": [
    {
     "data": {
      "image/png": "[encoded data removed]",
      "text/plain": [
       "<Figure size 1080x432 with 1 Axes>"
      ]
     },
     "metadata": {},
     "output_type": "display_data"
    }
   ],
   "source": [
    "plt.figure(figsize=(15, 6))\n",
    "sns.barplot(data=category_country_releases, x=\"Country\", y=\"Releases\", hue=\"Category\")\n",
    "plt.title(\"Total Netflix titles by Category and Rating\", size=18)\n",
    "plt.xlabel(\"Rating\", size=16)\n",
    "plt.ylabel(\"Movies/TV Shows\", size=16)\n",
    "plt.legend(loc='upper right')\n",
    "plt.show()"
   ]
  },
  {
   "cell_type": "markdown",
   "id": "73c173f3-2c5f-41c0-a206-987894707c03",
   "metadata": {},
   "source": [
    "<font size=\"3\">It is clear that netflix picks up different types of content from different countries. For example, nearly all available South Korean titles are TV shows, whereas nearly all Indian titles are movies. Whether this is a conscious decision made by Netflix or due to different countries focusing on producing one form of content over the other is unclear.</font>"
   ]
  },
  {
   "cell_type": "markdown",
   "id": "b9079d93-187b-4817-9a4c-92afe4a050bc",
   "metadata": {},
   "source": [
    "### Looking at 'Rating'\n",
    "<font size=\"3\">The 'Rating' field contains the content rating that has been assigned to the movie/TV show.</font>"
   ]
  },
  {
   "cell_type": "markdown",
   "id": "454064af-0f62-476c-a127-764aea076f3d",
   "metadata": {},
   "source": [
    "#### What are all the unique ratings assigned to the content available on Netflix?"
   ]
  },
  {
   "cell_type": "code",
   "execution_count": 30,
   "id": "8a2185de-b7a8-46df-a174-68a8db775f70",
   "metadata": {},
   "outputs": [],
   "source": [
    "# Only include content with a listed rating\n",
    "ratings_df = df[df[\"Rating\"].notna()]"
   ]
  },
  {
   "cell_type": "code",
   "execution_count": 31,
   "id": "21234457-9c94-470c-83f2-31b5e09959d0",
   "metadata": {},
   "outputs": [
    {
     "name": "stdout",
     "output_type": "stream",
     "text": [
      "All ratings:\n",
      "TV-MA, R, PG-13, TV-14, TV-PG, NR, TV-G, TV-Y, TV-Y7, PG, G, NC-17, TV-Y7-FV, UR"
     ]
    }
   ],
   "source": [
    "print(\"All ratings:\")\n",
    "print(*(i for i in ratings_df[\"Rating\"].unique()), sep=', ', end='')"
   ]
  },
  {
   "cell_type": "markdown",
   "id": "cb207b43-654d-404b-81e7-a5926da7136e",
   "metadata": {},
   "source": [
    "#### How do the ratings given to movies and TV shows compare?"
   ]
  },
  {
   "cell_type": "code",
   "execution_count": 32,
   "id": "6e34868f-bd5e-4860-945b-ce65e8905995",
   "metadata": {},
   "outputs": [
    {
     "data": {
      "text/html": [
       "<div>\n",
       "<style scoped>\n",
       "    .dataframe tbody tr th:only-of-type {\n",
       "        vertical-align: middle;\n",
       "    }\n",
       "\n",
       "    .dataframe tbody tr th {\n",
       "        vertical-align: top;\n",
       "    }\n",
       "\n",
       "    .dataframe thead th {\n",
       "        text-align: right;\n",
       "    }\n",
       "</style>\n",
       "<table border=\"1\" class=\"dataframe\">\n",
       "  <thead>\n",
       "    <tr style=\"text-align: right;\">\n",
       "      <th></th>\n",
       "      <th>Category</th>\n",
       "      <th>Rating</th>\n",
       "      <th>Count</th>\n",
       "    </tr>\n",
       "  </thead>\n",
       "  <tbody>\n",
       "    <tr>\n",
       "      <th>0</th>\n",
       "      <td>Movie</td>\n",
       "      <td>G</td>\n",
       "      <td>39</td>\n",
       "    </tr>\n",
       "    <tr>\n",
       "      <th>1</th>\n",
       "      <td>Movie</td>\n",
       "      <td>NC-17</td>\n",
       "      <td>3</td>\n",
       "    </tr>\n",
       "    <tr>\n",
       "      <th>2</th>\n",
       "      <td>Movie</td>\n",
       "      <td>NR</td>\n",
       "      <td>79</td>\n",
       "    </tr>\n",
       "    <tr>\n",
       "      <th>3</th>\n",
       "      <td>Movie</td>\n",
       "      <td>PG</td>\n",
       "      <td>247</td>\n",
       "    </tr>\n",
       "    <tr>\n",
       "      <th>4</th>\n",
       "      <td>Movie</td>\n",
       "      <td>PG-13</td>\n",
       "      <td>386</td>\n",
       "    </tr>\n",
       "  </tbody>\n",
       "</table>\n",
       "</div>"
      ],
      "text/plain": [
       "  Category Rating  Count\n",
       "0    Movie      G     39\n",
       "1    Movie  NC-17      3\n",
       "2    Movie     NR     79\n",
       "3    Movie     PG    247\n",
       "4    Movie  PG-13    386"
      ]
     },
     "execution_count": 32,
     "metadata": {},
     "output_type": "execute_result"
    }
   ],
   "source": [
    "# Group total number of movies/TV shows by their category and rating \n",
    "category_rating_count = df.groupby([\"Category\", \"Rating\"])[\"Show_Id\"].count().reset_index(name=\"Count\")\n",
    "category_rating_count.head()"
   ]
  },
  {
   "cell_type": "code",
   "execution_count": 33,
   "id": "27722bb8-a00d-4cc9-ad76-1f6a26026102",
   "metadata": {},
   "outputs": [
    {
     "data": {
      "image/png": "[encoded data removed]",
      "text/plain": [
       "<Figure size 1080x432 with 1 Axes>"
      ]
     },
     "metadata": {},
     "output_type": "display_data"
    }
   ],
   "source": [
    "plt.figure(figsize=(15, 6))\n",
    "sns.barplot(data=category_rating_count, x=\"Rating\", y=\"Count\", hue=\"Category\")\n",
    "plt.title(\"Total Netflix titles by Category and Rating\", size=18)\n",
    "plt.xlabel(\"Rating\", size=16)\n",
    "plt.ylabel(\"Count\", size=16)\n",
    "plt.legend(loc='upper right')\n",
    "plt.show()"
   ]
  },
  {
   "cell_type": "markdown",
   "id": "18cf588f-7bc2-4864-9674-b07242890fa9",
   "metadata": {},
   "source": [
    "<font size=\"3\">From the above barchart it is apparent that the most commonly assigned content rating is 'TV-MA', and this is true for both movies and TV shows. Some ratings are unique to the form of content eg. 'PG', 'PG-13' and 'R' are only assigned to movies. There are several other ratings but these appear much less frequently.</font>"
   ]
  },
  {
   "cell_type": "markdown",
   "id": "50e21122-8c25-4cec-a716-73971a0eebba",
   "metadata": {},
   "source": [
    "### Looking at 'Duration'\n",
    "<font size=\"3\">The 'Duration' field contains the length of the content. This is different depending on the 'Category' as for movies the duration is measured in minutes and for TV shows the duration is measured in seasons.</font> "
   ]
  },
  {
   "cell_type": "markdown",
   "id": "30cb5461-c641-4852-9c8a-65f899ce0660",
   "metadata": {},
   "source": [
    "#### What is the average movie duration?"
   ]
  },
  {
   "cell_type": "code",
   "execution_count": 34,
   "id": "5bb84427-9762-4e1c-828a-791ff9f0e219",
   "metadata": {},
   "outputs": [
    {
     "data": {
      "text/html": [
       "<div>\n",
       "<style scoped>\n",
       "    .dataframe tbody tr th:only-of-type {\n",
       "        vertical-align: middle;\n",
       "    }\n",
       "\n",
       "    .dataframe tbody tr th {\n",
       "        vertical-align: top;\n",
       "    }\n",
       "\n",
       "    .dataframe thead th {\n",
       "        text-align: right;\n",
       "    }\n",
       "</style>\n",
       "<table border=\"1\" class=\"dataframe\">\n",
       "  <thead>\n",
       "    <tr style=\"text-align: right;\">\n",
       "      <th></th>\n",
       "      <th>Show_Id</th>\n",
       "      <th>Category</th>\n",
       "      <th>Title</th>\n",
       "      <th>Director</th>\n",
       "      <th>Cast</th>\n",
       "      <th>Country</th>\n",
       "      <th>Release_Date</th>\n",
       "      <th>Rating</th>\n",
       "      <th>Duration</th>\n",
       "      <th>Genre</th>\n",
       "      <th>Description</th>\n",
       "      <th>Cast Count</th>\n",
       "    </tr>\n",
       "  </thead>\n",
       "  <tbody>\n",
       "    <tr>\n",
       "      <th>1</th>\n",
       "      <td>s2</td>\n",
       "      <td>Movie</td>\n",
       "      <td>07:19</td>\n",
       "      <td>Jorge Michel Grau</td>\n",
       "      <td>Demián Bichir, Héctor Bonilla, Oscar Serrano, ...</td>\n",
       "      <td>Mexico</td>\n",
       "      <td>2016-12-23</td>\n",
       "      <td>TV-MA</td>\n",
       "      <td>93</td>\n",
       "      <td>Dramas, International Movies</td>\n",
       "      <td>After a devastating earthquake hits Mexico Cit...</td>\n",
       "      <td>6.0</td>\n",
       "    </tr>\n",
       "    <tr>\n",
       "      <th>2</th>\n",
       "      <td>s3</td>\n",
       "      <td>Movie</td>\n",
       "      <td>23:59</td>\n",
       "      <td>Gilbert Chan</td>\n",
       "      <td>Tedd Chan, Stella Chung, Henley Hii, Lawrence ...</td>\n",
       "      <td>Singapore</td>\n",
       "      <td>2018-12-20</td>\n",
       "      <td>R</td>\n",
       "      <td>78</td>\n",
       "      <td>Horror Movies, International Movies</td>\n",
       "      <td>When an army recruit is found dead, his fellow...</td>\n",
       "      <td>9.0</td>\n",
       "    </tr>\n",
       "    <tr>\n",
       "      <th>3</th>\n",
       "      <td>s4</td>\n",
       "      <td>Movie</td>\n",
       "      <td>9</td>\n",
       "      <td>Shane Acker</td>\n",
       "      <td>Elijah Wood, John C. Reilly, Jennifer Connelly...</td>\n",
       "      <td>United States</td>\n",
       "      <td>2017-11-16</td>\n",
       "      <td>PG-13</td>\n",
       "      <td>80</td>\n",
       "      <td>Action &amp; Adventure, Independent Movies, Sci-Fi...</td>\n",
       "      <td>In a postapocalyptic world, rag-doll robots hi...</td>\n",
       "      <td>9.0</td>\n",
       "    </tr>\n",
       "    <tr>\n",
       "      <th>4</th>\n",
       "      <td>s5</td>\n",
       "      <td>Movie</td>\n",
       "      <td>21</td>\n",
       "      <td>Robert Luketic</td>\n",
       "      <td>Jim Sturgess, Kevin Spacey, Kate Bosworth, Aar...</td>\n",
       "      <td>United States</td>\n",
       "      <td>2020-01-01</td>\n",
       "      <td>PG-13</td>\n",
       "      <td>123</td>\n",
       "      <td>Dramas</td>\n",
       "      <td>A brilliant group of students become card-coun...</td>\n",
       "      <td>12.0</td>\n",
       "    </tr>\n",
       "    <tr>\n",
       "      <th>6</th>\n",
       "      <td>s7</td>\n",
       "      <td>Movie</td>\n",
       "      <td>122</td>\n",
       "      <td>Yasir Al Yasiri</td>\n",
       "      <td>Amina Khalil, Ahmed Dawood, Tarek Lotfy, Ahmed...</td>\n",
       "      <td>Egypt</td>\n",
       "      <td>2020-06-01</td>\n",
       "      <td>TV-MA</td>\n",
       "      <td>95</td>\n",
       "      <td>Horror Movies, International Movies</td>\n",
       "      <td>After an awful accident, a couple admitted to ...</td>\n",
       "      <td>8.0</td>\n",
       "    </tr>\n",
       "  </tbody>\n",
       "</table>\n",
       "</div>"
      ],
      "text/plain": [
       "  Show_Id Category  Title           Director  \\\n",
       "1      s2    Movie  07:19  Jorge Michel Grau   \n",
       "2      s3    Movie  23:59       Gilbert Chan   \n",
       "3      s4    Movie      9        Shane Acker   \n",
       "4      s5    Movie     21     Robert Luketic   \n",
       "6      s7    Movie    122    Yasir Al Yasiri   \n",
       "\n",
       "                                                Cast        Country  \\\n",
       "1  Demián Bichir, Héctor Bonilla, Oscar Serrano, ...         Mexico   \n",
       "2  Tedd Chan, Stella Chung, Henley Hii, Lawrence ...      Singapore   \n",
       "3  Elijah Wood, John C. Reilly, Jennifer Connelly...  United States   \n",
       "4  Jim Sturgess, Kevin Spacey, Kate Bosworth, Aar...  United States   \n",
       "6  Amina Khalil, Ahmed Dawood, Tarek Lotfy, Ahmed...          Egypt   \n",
       "\n",
       "  Release_Date Rating  Duration  \\\n",
       "1   2016-12-23  TV-MA        93   \n",
       "2   2018-12-20      R        78   \n",
       "3   2017-11-16  PG-13        80   \n",
       "4   2020-01-01  PG-13       123   \n",
       "6   2020-06-01  TV-MA        95   \n",
       "\n",
       "                                               Genre  \\\n",
       "1                       Dramas, International Movies   \n",
       "2                Horror Movies, International Movies   \n",
       "3  Action & Adventure, Independent Movies, Sci-Fi...   \n",
       "4                                             Dramas   \n",
       "6                Horror Movies, International Movies   \n",
       "\n",
       "                                         Description  Cast Count  \n",
       "1  After a devastating earthquake hits Mexico Cit...         6.0  \n",
       "2  When an army recruit is found dead, his fellow...         9.0  \n",
       "3  In a postapocalyptic world, rag-doll robots hi...         9.0  \n",
       "4  A brilliant group of students become card-coun...        12.0  \n",
       "6  After an awful accident, a couple admitted to ...         8.0  "
      ]
     },
     "execution_count": 34,
     "metadata": {},
     "output_type": "execute_result"
    }
   ],
   "source": [
    "# Create new dataframe containing only moviers\n",
    "movie_df = df[df[\"Category\"] == \"Movie\"]\n",
    "\n",
    "# Gather movie length for all movies\n",
    "movie_df[\"Duration\"] = movie_df[\"Duration\"].str.replace(' min', '')\n",
    "movie_df[\"Duration\"] = pd.to_numeric(movie_df[\"Duration\"])\n",
    "movie_df.head()"
   ]
  },
  {
   "cell_type": "code",
   "execution_count": 35,
   "id": "175acd5b-ee51-4783-a5a1-254e8f4e34db",
   "metadata": {},
   "outputs": [
    {
     "data": {
      "text/plain": [
       "99.30797842663195"
      ]
     },
     "execution_count": 35,
     "metadata": {},
     "output_type": "execute_result"
    }
   ],
   "source": [
    "# Average movie duration\n",
    "movie_df[\"Duration\"].mean()"
   ]
  },
  {
   "cell_type": "markdown",
   "id": "13ce09dd-607d-497a-8ffe-f0a3d113489e",
   "metadata": {},
   "source": [
    "#### How is the duration of movies distributed?"
   ]
  },
  {
   "cell_type": "code",
   "execution_count": 36,
   "id": "62eb5c77-db15-4e36-91c8-0d664e58e3eb",
   "metadata": {},
   "outputs": [
    {
     "data": {
      "image/png": "[encoded data removed]",
      "text/plain": [
       "<Figure size 1296x432 with 1 Axes>"
      ]
     },
     "metadata": {},
     "output_type": "display_data"
    }
   ],
   "source": [
    "sns.displot(data=movie_df, x=\"Duration\", kde=True, height=6, aspect=3)\n",
    "plt.title(\"Distribution of movie length\", size=18)\n",
    "plt.xlabel(\"Duration (minutes)\", size=16)\n",
    "plt.ylabel(\"Movies\", size=16)\n",
    "plt.xticks=np.arange(0, math.ceil(movie_df[\"Duration\"].max() / 10.0) * 10, 10)\n",
    "plt.show()"
   ]
  },
  {
   "cell_type": "markdown",
   "id": "63358cfc-8de8-45c8-9fa0-0c6ee5a7237c",
   "metadata": {},
   "source": [
    "<font size=\"3\">The distribution plot shows that the majority of movies available on Netflix have a duration between 85 and 110 minutes, with the most common run time being around 90 minutes.</font>"
   ]
  },
  {
   "cell_type": "markdown",
   "id": "bc3cf48e-8b3e-4b43-8f9b-f8ba1b25472f",
   "metadata": {},
   "source": [
    "### Looking at 'Cast'\n",
    "<font size=\"3\">The 'Cast' field contains a list of the notable actors and actresses which acted in the movie/TV show.</font>"
   ]
  },
  {
   "cell_type": "markdown",
   "id": "e909cb63-31f1-416b-a37e-2841c4cbfdb8",
   "metadata": {},
   "source": [
    "#### How does the average number of cast members compare for movies and TV shows?"
   ]
  },
  {
   "cell_type": "code",
   "execution_count": 37,
   "id": "c2c07190-cf9b-46a0-8b02-ca74ec99eb75",
   "metadata": {},
   "outputs": [
    {
     "data": {
      "text/plain": [
       "Category\n",
       "Movie      7.738235\n",
       "TV Show    8.330028\n",
       "Name: Cast Count, dtype: float64"
      ]
     },
     "execution_count": 37,
     "metadata": {},
     "output_type": "execute_result"
    }
   ],
   "source": [
    "# Average number of cast members for each category\n",
    "df.groupby('Category')[\"Cast Count\"].mean()"
   ]
  },
  {
   "cell_type": "markdown",
   "id": "3fde6d76-c7a2-474b-8821-a4609cf91905",
   "metadata": {},
   "source": [
    "#### How many unique cast members have starred in the content available on Netflix?"
   ]
  },
  {
   "cell_type": "code",
   "execution_count": 38,
   "id": "32c4a10e-6ede-4be3-b397-d65878dda616",
   "metadata": {},
   "outputs": [
    {
     "data": {
      "text/html": [
       "<div>\n",
       "<style scoped>\n",
       "    .dataframe tbody tr th:only-of-type {\n",
       "        vertical-align: middle;\n",
       "    }\n",
       "\n",
       "    .dataframe tbody tr th {\n",
       "        vertical-align: top;\n",
       "    }\n",
       "\n",
       "    .dataframe thead th {\n",
       "        text-align: right;\n",
       "    }\n",
       "</style>\n",
       "<table border=\"1\" class=\"dataframe\">\n",
       "  <thead>\n",
       "    <tr style=\"text-align: right;\">\n",
       "      <th></th>\n",
       "      <th>Show_Id</th>\n",
       "      <th>Category</th>\n",
       "      <th>Title</th>\n",
       "      <th>Director</th>\n",
       "      <th>Cast</th>\n",
       "      <th>Country</th>\n",
       "      <th>Release_Date</th>\n",
       "      <th>Rating</th>\n",
       "      <th>Duration</th>\n",
       "      <th>Genre</th>\n",
       "      <th>Description</th>\n",
       "      <th>Cast Count</th>\n",
       "      <th>Cast List</th>\n",
       "    </tr>\n",
       "  </thead>\n",
       "  <tbody>\n",
       "    <tr>\n",
       "      <th>0</th>\n",
       "      <td>s1</td>\n",
       "      <td>TV Show</td>\n",
       "      <td>3%</td>\n",
       "      <td>NaN</td>\n",
       "      <td>João Miguel, Bianca Comparato, Michel Gomes, R...</td>\n",
       "      <td>Brazil</td>\n",
       "      <td>2020-08-14</td>\n",
       "      <td>TV-MA</td>\n",
       "      <td>4 Seasons</td>\n",
       "      <td>International TV Shows, TV Dramas, TV Sci-Fi &amp;...</td>\n",
       "      <td>In a future where the elite inhabit an island ...</td>\n",
       "      <td>11.0</td>\n",
       "      <td>João Miguel</td>\n",
       "    </tr>\n",
       "    <tr>\n",
       "      <th>0</th>\n",
       "      <td>s1</td>\n",
       "      <td>TV Show</td>\n",
       "      <td>3%</td>\n",
       "      <td>NaN</td>\n",
       "      <td>João Miguel, Bianca Comparato, Michel Gomes, R...</td>\n",
       "      <td>Brazil</td>\n",
       "      <td>2020-08-14</td>\n",
       "      <td>TV-MA</td>\n",
       "      <td>4 Seasons</td>\n",
       "      <td>International TV Shows, TV Dramas, TV Sci-Fi &amp;...</td>\n",
       "      <td>In a future where the elite inhabit an island ...</td>\n",
       "      <td>11.0</td>\n",
       "      <td>Bianca Comparato</td>\n",
       "    </tr>\n",
       "    <tr>\n",
       "      <th>0</th>\n",
       "      <td>s1</td>\n",
       "      <td>TV Show</td>\n",
       "      <td>3%</td>\n",
       "      <td>NaN</td>\n",
       "      <td>João Miguel, Bianca Comparato, Michel Gomes, R...</td>\n",
       "      <td>Brazil</td>\n",
       "      <td>2020-08-14</td>\n",
       "      <td>TV-MA</td>\n",
       "      <td>4 Seasons</td>\n",
       "      <td>International TV Shows, TV Dramas, TV Sci-Fi &amp;...</td>\n",
       "      <td>In a future where the elite inhabit an island ...</td>\n",
       "      <td>11.0</td>\n",
       "      <td>Michel Gomes</td>\n",
       "    </tr>\n",
       "    <tr>\n",
       "      <th>0</th>\n",
       "      <td>s1</td>\n",
       "      <td>TV Show</td>\n",
       "      <td>3%</td>\n",
       "      <td>NaN</td>\n",
       "      <td>João Miguel, Bianca Comparato, Michel Gomes, R...</td>\n",
       "      <td>Brazil</td>\n",
       "      <td>2020-08-14</td>\n",
       "      <td>TV-MA</td>\n",
       "      <td>4 Seasons</td>\n",
       "      <td>International TV Shows, TV Dramas, TV Sci-Fi &amp;...</td>\n",
       "      <td>In a future where the elite inhabit an island ...</td>\n",
       "      <td>11.0</td>\n",
       "      <td>Rodolfo Valente</td>\n",
       "    </tr>\n",
       "    <tr>\n",
       "      <th>0</th>\n",
       "      <td>s1</td>\n",
       "      <td>TV Show</td>\n",
       "      <td>3%</td>\n",
       "      <td>NaN</td>\n",
       "      <td>João Miguel, Bianca Comparato, Michel Gomes, R...</td>\n",
       "      <td>Brazil</td>\n",
       "      <td>2020-08-14</td>\n",
       "      <td>TV-MA</td>\n",
       "      <td>4 Seasons</td>\n",
       "      <td>International TV Shows, TV Dramas, TV Sci-Fi &amp;...</td>\n",
       "      <td>In a future where the elite inhabit an island ...</td>\n",
       "      <td>11.0</td>\n",
       "      <td>Vaneza Oliveira</td>\n",
       "    </tr>\n",
       "  </tbody>\n",
       "</table>\n",
       "</div>"
      ],
      "text/plain": [
       "  Show_Id Category Title Director  \\\n",
       "0      s1  TV Show    3%      NaN   \n",
       "0      s1  TV Show    3%      NaN   \n",
       "0      s1  TV Show    3%      NaN   \n",
       "0      s1  TV Show    3%      NaN   \n",
       "0      s1  TV Show    3%      NaN   \n",
       "\n",
       "                                                Cast Country Release_Date  \\\n",
       "0  João Miguel, Bianca Comparato, Michel Gomes, R...  Brazil   2020-08-14   \n",
       "0  João Miguel, Bianca Comparato, Michel Gomes, R...  Brazil   2020-08-14   \n",
       "0  João Miguel, Bianca Comparato, Michel Gomes, R...  Brazil   2020-08-14   \n",
       "0  João Miguel, Bianca Comparato, Michel Gomes, R...  Brazil   2020-08-14   \n",
       "0  João Miguel, Bianca Comparato, Michel Gomes, R...  Brazil   2020-08-14   \n",
       "\n",
       "  Rating   Duration                                              Genre  \\\n",
       "0  TV-MA  4 Seasons  International TV Shows, TV Dramas, TV Sci-Fi &...   \n",
       "0  TV-MA  4 Seasons  International TV Shows, TV Dramas, TV Sci-Fi &...   \n",
       "0  TV-MA  4 Seasons  International TV Shows, TV Dramas, TV Sci-Fi &...   \n",
       "0  TV-MA  4 Seasons  International TV Shows, TV Dramas, TV Sci-Fi &...   \n",
       "0  TV-MA  4 Seasons  International TV Shows, TV Dramas, TV Sci-Fi &...   \n",
       "\n",
       "                                         Description  Cast Count  \\\n",
       "0  In a future where the elite inhabit an island ...        11.0   \n",
       "0  In a future where the elite inhabit an island ...        11.0   \n",
       "0  In a future where the elite inhabit an island ...        11.0   \n",
       "0  In a future where the elite inhabit an island ...        11.0   \n",
       "0  In a future where the elite inhabit an island ...        11.0   \n",
       "\n",
       "          Cast List  \n",
       "0       João Miguel  \n",
       "0  Bianca Comparato  \n",
       "0      Michel Gomes  \n",
       "0   Rodolfo Valente  \n",
       "0   Vaneza Oliveira  "
      ]
     },
     "execution_count": 38,
     "metadata": {},
     "output_type": "execute_result"
    }
   ],
   "source": [
    "# Only include content where a cast is listed\n",
    "cast_df = df[df[\"Cast\"].notna()]\n",
    "\n",
    "# Create list consisting of all cast members for each title\n",
    "cast_df[\"Cast List\"] = cast_df[\"Cast\"].str.split(', ')\n",
    "cast_df = cast_df.explode('Cast List')\n",
    "cast_df.head()"
   ]
  },
  {
   "cell_type": "code",
   "execution_count": 39,
   "id": "7d08160d-1c10-4105-8b1d-5163e5c6a9f6",
   "metadata": {},
   "outputs": [
    {
     "data": {
      "text/plain": [
       "32881"
      ]
     },
     "execution_count": 39,
     "metadata": {},
     "output_type": "execute_result"
    }
   ],
   "source": [
    "cast_df[\"Cast List\"].nunique()"
   ]
  },
  {
   "cell_type": "markdown",
   "id": "fea34114-66b7-430d-ba75-8dba47683598",
   "metadata": {},
   "source": [
    "<font size=\"3\">A total of 32881 unique actors and actresses have acted in the movies and TV shows available on Netflix.</font>"
   ]
  },
  {
   "cell_type": "markdown",
   "id": "05766ea0-5936-44e6-83f1-88653eb879f9",
   "metadata": {},
   "source": [
    "### Looking at 'Director'\n",
    "<font size=\"3\">The 'Director' field contains a list of the directors which took part in directing the movie/TV show.</font>"
   ]
  },
  {
   "cell_type": "markdown",
   "id": "491fa2de-336a-4db6-8b45-5aceda12439e",
   "metadata": {},
   "source": [
    "#### How many unique directors have directed the content available on Netflix?"
   ]
  },
  {
   "cell_type": "code",
   "execution_count": 40,
   "id": "8cbd81fe-881d-4e1f-abb7-c444fdf1621e",
   "metadata": {},
   "outputs": [
    {
     "data": {
      "text/html": [
       "<div>\n",
       "<style scoped>\n",
       "    .dataframe tbody tr th:only-of-type {\n",
       "        vertical-align: middle;\n",
       "    }\n",
       "\n",
       "    .dataframe tbody tr th {\n",
       "        vertical-align: top;\n",
       "    }\n",
       "\n",
       "    .dataframe thead th {\n",
       "        text-align: right;\n",
       "    }\n",
       "</style>\n",
       "<table border=\"1\" class=\"dataframe\">\n",
       "  <thead>\n",
       "    <tr style=\"text-align: right;\">\n",
       "      <th></th>\n",
       "      <th>Show_Id</th>\n",
       "      <th>Category</th>\n",
       "      <th>Title</th>\n",
       "      <th>Director</th>\n",
       "      <th>Cast</th>\n",
       "      <th>Country</th>\n",
       "      <th>Release_Date</th>\n",
       "      <th>Rating</th>\n",
       "      <th>Duration</th>\n",
       "      <th>Genre</th>\n",
       "      <th>Description</th>\n",
       "      <th>Cast Count</th>\n",
       "      <th>Director List</th>\n",
       "    </tr>\n",
       "  </thead>\n",
       "  <tbody>\n",
       "    <tr>\n",
       "      <th>1</th>\n",
       "      <td>s2</td>\n",
       "      <td>Movie</td>\n",
       "      <td>07:19</td>\n",
       "      <td>Jorge Michel Grau</td>\n",
       "      <td>Demián Bichir, Héctor Bonilla, Oscar Serrano, ...</td>\n",
       "      <td>Mexico</td>\n",
       "      <td>2016-12-23</td>\n",
       "      <td>TV-MA</td>\n",
       "      <td>93 min</td>\n",
       "      <td>Dramas, International Movies</td>\n",
       "      <td>After a devastating earthquake hits Mexico Cit...</td>\n",
       "      <td>6.0</td>\n",
       "      <td>Jorge Michel Grau</td>\n",
       "    </tr>\n",
       "    <tr>\n",
       "      <th>2</th>\n",
       "      <td>s3</td>\n",
       "      <td>Movie</td>\n",
       "      <td>23:59</td>\n",
       "      <td>Gilbert Chan</td>\n",
       "      <td>Tedd Chan, Stella Chung, Henley Hii, Lawrence ...</td>\n",
       "      <td>Singapore</td>\n",
       "      <td>2018-12-20</td>\n",
       "      <td>R</td>\n",
       "      <td>78 min</td>\n",
       "      <td>Horror Movies, International Movies</td>\n",
       "      <td>When an army recruit is found dead, his fellow...</td>\n",
       "      <td>9.0</td>\n",
       "      <td>Gilbert Chan</td>\n",
       "    </tr>\n",
       "    <tr>\n",
       "      <th>3</th>\n",
       "      <td>s4</td>\n",
       "      <td>Movie</td>\n",
       "      <td>9</td>\n",
       "      <td>Shane Acker</td>\n",
       "      <td>Elijah Wood, John C. Reilly, Jennifer Connelly...</td>\n",
       "      <td>United States</td>\n",
       "      <td>2017-11-16</td>\n",
       "      <td>PG-13</td>\n",
       "      <td>80 min</td>\n",
       "      <td>Action &amp; Adventure, Independent Movies, Sci-Fi...</td>\n",
       "      <td>In a postapocalyptic world, rag-doll robots hi...</td>\n",
       "      <td>9.0</td>\n",
       "      <td>Shane Acker</td>\n",
       "    </tr>\n",
       "    <tr>\n",
       "      <th>4</th>\n",
       "      <td>s5</td>\n",
       "      <td>Movie</td>\n",
       "      <td>21</td>\n",
       "      <td>Robert Luketic</td>\n",
       "      <td>Jim Sturgess, Kevin Spacey, Kate Bosworth, Aar...</td>\n",
       "      <td>United States</td>\n",
       "      <td>2020-01-01</td>\n",
       "      <td>PG-13</td>\n",
       "      <td>123 min</td>\n",
       "      <td>Dramas</td>\n",
       "      <td>A brilliant group of students become card-coun...</td>\n",
       "      <td>12.0</td>\n",
       "      <td>Robert Luketic</td>\n",
       "    </tr>\n",
       "    <tr>\n",
       "      <th>5</th>\n",
       "      <td>s6</td>\n",
       "      <td>TV Show</td>\n",
       "      <td>46</td>\n",
       "      <td>Serdar Akar</td>\n",
       "      <td>Erdal Beşikçioğlu, Yasemin Allen, Melis Birkan...</td>\n",
       "      <td>Turkey</td>\n",
       "      <td>2017-07-01</td>\n",
       "      <td>TV-MA</td>\n",
       "      <td>1 Season</td>\n",
       "      <td>International TV Shows, TV Dramas, TV Mysteries</td>\n",
       "      <td>A genetics professor experiments with a treatm...</td>\n",
       "      <td>10.0</td>\n",
       "      <td>Serdar Akar</td>\n",
       "    </tr>\n",
       "  </tbody>\n",
       "</table>\n",
       "</div>"
      ],
      "text/plain": [
       "  Show_Id Category  Title           Director  \\\n",
       "1      s2    Movie  07:19  Jorge Michel Grau   \n",
       "2      s3    Movie  23:59       Gilbert Chan   \n",
       "3      s4    Movie      9        Shane Acker   \n",
       "4      s5    Movie     21     Robert Luketic   \n",
       "5      s6  TV Show     46        Serdar Akar   \n",
       "\n",
       "                                                Cast        Country  \\\n",
       "1  Demián Bichir, Héctor Bonilla, Oscar Serrano, ...         Mexico   \n",
       "2  Tedd Chan, Stella Chung, Henley Hii, Lawrence ...      Singapore   \n",
       "3  Elijah Wood, John C. Reilly, Jennifer Connelly...  United States   \n",
       "4  Jim Sturgess, Kevin Spacey, Kate Bosworth, Aar...  United States   \n",
       "5  Erdal Beşikçioğlu, Yasemin Allen, Melis Birkan...         Turkey   \n",
       "\n",
       "  Release_Date Rating  Duration  \\\n",
       "1   2016-12-23  TV-MA    93 min   \n",
       "2   2018-12-20      R    78 min   \n",
       "3   2017-11-16  PG-13    80 min   \n",
       "4   2020-01-01  PG-13   123 min   \n",
       "5   2017-07-01  TV-MA  1 Season   \n",
       "\n",
       "                                               Genre  \\\n",
       "1                       Dramas, International Movies   \n",
       "2                Horror Movies, International Movies   \n",
       "3  Action & Adventure, Independent Movies, Sci-Fi...   \n",
       "4                                             Dramas   \n",
       "5    International TV Shows, TV Dramas, TV Mysteries   \n",
       "\n",
       "                                         Description  Cast Count  \\\n",
       "1  After a devastating earthquake hits Mexico Cit...         6.0   \n",
       "2  When an army recruit is found dead, his fellow...         9.0   \n",
       "3  In a postapocalyptic world, rag-doll robots hi...         9.0   \n",
       "4  A brilliant group of students become card-coun...        12.0   \n",
       "5  A genetics professor experiments with a treatm...        10.0   \n",
       "\n",
       "       Director List  \n",
       "1  Jorge Michel Grau  \n",
       "2       Gilbert Chan  \n",
       "3        Shane Acker  \n",
       "4     Robert Luketic  \n",
       "5        Serdar Akar  "
      ]
     },
     "execution_count": 40,
     "metadata": {},
     "output_type": "execute_result"
    }
   ],
   "source": [
    "directors_df = df[df[\"Director\"].notna()]\n",
    "\n",
    "# Split director lists on individual content to create full director list\n",
    "directors_df[\"Director List\"] = directors_df[\"Director\"].str.split(', ')\n",
    "directors_df = directors_df.explode('Director List')\n",
    "directors_df.head()"
   ]
  },
  {
   "cell_type": "code",
   "execution_count": 41,
   "id": "4128205a-76f1-4e8a-9fcb-7bf6813c0bba",
   "metadata": {},
   "outputs": [
    {
     "data": {
      "text/plain": [
       "4482"
      ]
     },
     "execution_count": 41,
     "metadata": {},
     "output_type": "execute_result"
    }
   ],
   "source": [
    "directors_df[\"Director List\"].nunique()"
   ]
  },
  {
   "cell_type": "markdown",
   "id": "5f9577b2-1d54-4ed2-a791-434e21cbce89",
   "metadata": {},
   "source": [
    "<font size=\"3\">A total of 4482 unique directors have participated in directing the movies and TV shows available on Netflix.</font>"
   ]
  },
  {
   "cell_type": "markdown",
   "id": "7072975f-36f1-411b-9ac5-b819abd5e32e",
   "metadata": {},
   "source": [
    "#### Which directors have directed the most content available on Netflix?"
   ]
  },
  {
   "cell_type": "code",
   "execution_count": 42,
   "id": "85141c13-ef91-47c5-97e8-3162974669e8",
   "metadata": {},
   "outputs": [
    {
     "data": {
      "text/html": [
       "<div>\n",
       "<style scoped>\n",
       "    .dataframe tbody tr th:only-of-type {\n",
       "        vertical-align: middle;\n",
       "    }\n",
       "\n",
       "    .dataframe tbody tr th {\n",
       "        vertical-align: top;\n",
       "    }\n",
       "\n",
       "    .dataframe thead th {\n",
       "        text-align: right;\n",
       "    }\n",
       "</style>\n",
       "<table border=\"1\" class=\"dataframe\">\n",
       "  <thead>\n",
       "    <tr style=\"text-align: right;\">\n",
       "      <th></th>\n",
       "      <th>Director List</th>\n",
       "      <th>Count</th>\n",
       "    </tr>\n",
       "  </thead>\n",
       "  <tbody>\n",
       "    <tr>\n",
       "      <th>1722</th>\n",
       "      <td>Jan Suter</td>\n",
       "      <td>21</td>\n",
       "    </tr>\n",
       "    <tr>\n",
       "      <th>3411</th>\n",
       "      <td>Raúl Campos</td>\n",
       "      <td>19</td>\n",
       "    </tr>\n",
       "    <tr>\n",
       "      <th>2581</th>\n",
       "      <td>Marcus Raboy</td>\n",
       "      <td>16</td>\n",
       "    </tr>\n",
       "    <tr>\n",
       "      <th>1765</th>\n",
       "      <td>Jay Karas</td>\n",
       "      <td>15</td>\n",
       "    </tr>\n",
       "    <tr>\n",
       "      <th>688</th>\n",
       "      <td>Cathy Garcia-Molina</td>\n",
       "      <td>13</td>\n",
       "    </tr>\n",
       "  </tbody>\n",
       "</table>\n",
       "</div>"
      ],
      "text/plain": [
       "            Director List  Count\n",
       "1722            Jan Suter     21\n",
       "3411          Raúl Campos     19\n",
       "2581         Marcus Raboy     16\n",
       "1765            Jay Karas     15\n",
       "688   Cathy Garcia-Molina     13"
      ]
     },
     "execution_count": 42,
     "metadata": {},
     "output_type": "execute_result"
    }
   ],
   "source": [
    "# Count number of instances for each director\n",
    "full_directors_count = directors_df.groupby('Director List')[\"Director List\"].count().reset_index(name=\"Count\").sort_values('Count', ascending=False).head(5)\n",
    "full_directors_count"
   ]
  },
  {
   "cell_type": "code",
   "execution_count": 43,
   "id": "ff88438a-9680-41ed-8589-929b5c869264",
   "metadata": {},
   "outputs": [
    {
     "data": {
      "image/png": "[encoded data removed]",
      "text/plain": [
       "<Figure size 1080x360 with 1 Axes>"
      ]
     },
     "metadata": {},
     "output_type": "display_data"
    }
   ],
   "source": [
    "plt.figure(figsize=(15, 5))\n",
    "a = sns.barplot(data=full_directors_count, x=\"Director List\", y=\"Count\")\n",
    "a.set(yticks=range(0, full_directors_count[\"Count\"].max()+1, 2))\n",
    "a.set_title(\"Top 5 Directors\", size=18)\n",
    "a.set_xlabel(\"Director\", size=16)\n",
    "a.set_ylabel(\"Movies/TV Shows\", size=16)\n",
    "\n",
    "plt.show()"
   ]
  },
  {
   "cell_type": "markdown",
   "id": "a6197c5e-618f-4f00-8667-bbff40c08eea",
   "metadata": {},
   "source": [
    "<font size=\"3\">With a total of 21 movies/TV shows Jan Suter has participated in directing the most titles available on Netflix. This is closely followed by Raul Campos, Marcus Raboy, Jay Karas and Cathy Garcia-Molina respectively.</font>"
   ]
  },
  {
   "cell_type": "markdown",
   "id": "8654ff02-150c-44d2-9c47-bfdef8d9c086",
   "metadata": {},
   "source": [
    "### Looking at 'Genre'\n",
    "<font size=\"3\">The 'Genre' field contains a list of genres which best describe the movie/TV show.</font>"
   ]
  },
  {
   "cell_type": "markdown",
   "id": "51be68b3-63f1-40a9-b374-3f129eb8cafa",
   "metadata": {},
   "source": [
    "#### What are all the genres available for movies and TV shows on Netflix?"
   ]
  },
  {
   "cell_type": "code",
   "execution_count": 44,
   "id": "e14c7813-e4d2-4540-8b1d-ee9ffefbeb29",
   "metadata": {},
   "outputs": [],
   "source": [
    "genre_df = df.copy()\n",
    "\n",
    "# Split genre lists on individual content to create full genre list\n",
    "genre_df[\"Genre List\"] = genre_df[\"Genre\"].str.split(', ')\n",
    "full_genres = genre_df.explode('Genre List')"
   ]
  },
  {
   "cell_type": "code",
   "execution_count": 45,
   "id": "328badbe-819a-444f-954b-ba6c3f783d49",
   "metadata": {},
   "outputs": [
    {
     "data": {
      "text/plain": [
       "42"
      ]
     },
     "execution_count": 45,
     "metadata": {},
     "output_type": "execute_result"
    }
   ],
   "source": [
    "# Total unique genres\n",
    "full_genres[\"Genre List\"].nunique()"
   ]
  },
  {
   "cell_type": "code",
   "execution_count": 46,
   "id": "cc10d5ac-48a5-4e29-b3ae-e49b7238334d",
   "metadata": {},
   "outputs": [],
   "source": [
    "# List of unique movie genres\n",
    "movie_genres = full_genres[full_genres[\"Category\"] == \"Movie\"][\"Genre List\"].unique()\n",
    "# List of unique TV show genres\n",
    "tv_genres = full_genres[full_genres[\"Category\"] == \"TV Show\"][\"Genre List\"].unique()"
   ]
  },
  {
   "cell_type": "code",
   "execution_count": 47,
   "id": "a0c251ad-6599-4cf4-b37f-bac97c485a78",
   "metadata": {},
   "outputs": [
    {
     "name": "stdout",
     "output_type": "stream",
     "text": [
      "Movie Genres (20):\n",
      "Dramas, International Movies, Horror Movies, Action & Adventure, Independent Movies, Sci-Fi & Fantasy, Thrillers, Documentaries, Sports Movies, Comedies, Romantic Movies, Movies, Music & Musicals, LGBTQ Movies, Faith & Spirituality, Children & Family Movies, Classic Movies, Cult Movies, Stand-Up Comedy, Anime Features\n",
      "\n",
      "TV Show Genres (22):\n",
      "International TV Shows, TV Dramas, TV Sci-Fi & Fantasy, TV Mysteries, Crime TV Shows, Docuseries, Anime Series, Reality TV, TV Comedies, Romantic TV Shows, Science & Nature TV, British TV Shows, Korean TV Shows, Kids' TV, TV Action & Adventure, Spanish-Language TV Shows, TV Shows, TV Horror, Stand-Up Comedy & Talk Shows, Teen TV Shows, TV Thrillers, Classic & Cult TV"
     ]
    }
   ],
   "source": [
    "print(f\"Movie Genres ({len(movie_genres)}):\")\n",
    "print(*(i for i in movie_genres), sep=', ', end='\\n\\n')\n",
    "\n",
    "print(f\"TV Show Genres ({len(tv_genres)}):\")\n",
    "print(*(i for i in tv_genres), sep=', ', end='')"
   ]
  },
  {
   "cell_type": "markdown",
   "id": "692aab8a-69ab-4f58-8e92-8204c65e04f6",
   "metadata": {},
   "source": [
    "<font size=\"3\">There are 42 unique genres which describe the content available on Netflix, 20 for movies and 22 for TV shows. It is clear Netflix categorises genres differently depending on whether the content is a movie or TV show.</font>"
   ]
  },
  {
   "cell_type": "markdown",
   "id": "a993453d-1f45-4109-abff-adc3f23f4eb8",
   "metadata": {},
   "source": [
    "#### How do the most popular genres for movies and TV shows compare?"
   ]
  },
  {
   "cell_type": "code",
   "execution_count": 48,
   "id": "c1752985-8727-4c69-a3eb-57acf8666ddb",
   "metadata": {},
   "outputs": [
    {
     "data": {
      "text/html": [
       "<div>\n",
       "<style scoped>\n",
       "    .dataframe tbody tr th:only-of-type {\n",
       "        vertical-align: middle;\n",
       "    }\n",
       "\n",
       "    .dataframe tbody tr th {\n",
       "        vertical-align: top;\n",
       "    }\n",
       "\n",
       "    .dataframe thead th {\n",
       "        text-align: right;\n",
       "    }\n",
       "</style>\n",
       "<table border=\"1\" class=\"dataframe\">\n",
       "  <thead>\n",
       "    <tr style=\"text-align: right;\">\n",
       "      <th></th>\n",
       "      <th>Show_Id</th>\n",
       "      <th>Category</th>\n",
       "      <th>Title</th>\n",
       "      <th>Director</th>\n",
       "      <th>Cast</th>\n",
       "      <th>Country</th>\n",
       "      <th>Release_Date</th>\n",
       "      <th>Rating</th>\n",
       "      <th>Duration</th>\n",
       "      <th>Genre</th>\n",
       "      <th>Description</th>\n",
       "      <th>Cast Count</th>\n",
       "      <th>Genre List</th>\n",
       "    </tr>\n",
       "  </thead>\n",
       "  <tbody>\n",
       "    <tr>\n",
       "      <th>0</th>\n",
       "      <td>s1</td>\n",
       "      <td>TV Show</td>\n",
       "      <td>3%</td>\n",
       "      <td>NaN</td>\n",
       "      <td>João Miguel, Bianca Comparato, Michel Gomes, R...</td>\n",
       "      <td>Brazil</td>\n",
       "      <td>2020-08-14</td>\n",
       "      <td>TV-MA</td>\n",
       "      <td>4 Seasons</td>\n",
       "      <td>International TV Shows, TV Dramas, TV Sci-Fi &amp;...</td>\n",
       "      <td>In a future where the elite inhabit an island ...</td>\n",
       "      <td>11.0</td>\n",
       "      <td>International TV Shows</td>\n",
       "    </tr>\n",
       "    <tr>\n",
       "      <th>0</th>\n",
       "      <td>s1</td>\n",
       "      <td>TV Show</td>\n",
       "      <td>3%</td>\n",
       "      <td>NaN</td>\n",
       "      <td>João Miguel, Bianca Comparato, Michel Gomes, R...</td>\n",
       "      <td>Brazil</td>\n",
       "      <td>2020-08-14</td>\n",
       "      <td>TV-MA</td>\n",
       "      <td>4 Seasons</td>\n",
       "      <td>International TV Shows, TV Dramas, TV Sci-Fi &amp;...</td>\n",
       "      <td>In a future where the elite inhabit an island ...</td>\n",
       "      <td>11.0</td>\n",
       "      <td>TV Dramas</td>\n",
       "    </tr>\n",
       "    <tr>\n",
       "      <th>0</th>\n",
       "      <td>s1</td>\n",
       "      <td>TV Show</td>\n",
       "      <td>3%</td>\n",
       "      <td>NaN</td>\n",
       "      <td>João Miguel, Bianca Comparato, Michel Gomes, R...</td>\n",
       "      <td>Brazil</td>\n",
       "      <td>2020-08-14</td>\n",
       "      <td>TV-MA</td>\n",
       "      <td>4 Seasons</td>\n",
       "      <td>International TV Shows, TV Dramas, TV Sci-Fi &amp;...</td>\n",
       "      <td>In a future where the elite inhabit an island ...</td>\n",
       "      <td>11.0</td>\n",
       "      <td>TV Sci-Fi &amp; Fantasy</td>\n",
       "    </tr>\n",
       "    <tr>\n",
       "      <th>1</th>\n",
       "      <td>s2</td>\n",
       "      <td>Movie</td>\n",
       "      <td>07:19</td>\n",
       "      <td>Jorge Michel Grau</td>\n",
       "      <td>Demián Bichir, Héctor Bonilla, Oscar Serrano, ...</td>\n",
       "      <td>Mexico</td>\n",
       "      <td>2016-12-23</td>\n",
       "      <td>TV-MA</td>\n",
       "      <td>93 min</td>\n",
       "      <td>Dramas, International Movies</td>\n",
       "      <td>After a devastating earthquake hits Mexico Cit...</td>\n",
       "      <td>6.0</td>\n",
       "      <td>Dramas</td>\n",
       "    </tr>\n",
       "    <tr>\n",
       "      <th>1</th>\n",
       "      <td>s2</td>\n",
       "      <td>Movie</td>\n",
       "      <td>07:19</td>\n",
       "      <td>Jorge Michel Grau</td>\n",
       "      <td>Demián Bichir, Héctor Bonilla, Oscar Serrano, ...</td>\n",
       "      <td>Mexico</td>\n",
       "      <td>2016-12-23</td>\n",
       "      <td>TV-MA</td>\n",
       "      <td>93 min</td>\n",
       "      <td>Dramas, International Movies</td>\n",
       "      <td>After a devastating earthquake hits Mexico Cit...</td>\n",
       "      <td>6.0</td>\n",
       "      <td>International Movies</td>\n",
       "    </tr>\n",
       "  </tbody>\n",
       "</table>\n",
       "</div>"
      ],
      "text/plain": [
       "  Show_Id Category  Title           Director  \\\n",
       "0      s1  TV Show     3%                NaN   \n",
       "0      s1  TV Show     3%                NaN   \n",
       "0      s1  TV Show     3%                NaN   \n",
       "1      s2    Movie  07:19  Jorge Michel Grau   \n",
       "1      s2    Movie  07:19  Jorge Michel Grau   \n",
       "\n",
       "                                                Cast Country Release_Date  \\\n",
       "0  João Miguel, Bianca Comparato, Michel Gomes, R...  Brazil   2020-08-14   \n",
       "0  João Miguel, Bianca Comparato, Michel Gomes, R...  Brazil   2020-08-14   \n",
       "0  João Miguel, Bianca Comparato, Michel Gomes, R...  Brazil   2020-08-14   \n",
       "1  Demián Bichir, Héctor Bonilla, Oscar Serrano, ...  Mexico   2016-12-23   \n",
       "1  Demián Bichir, Héctor Bonilla, Oscar Serrano, ...  Mexico   2016-12-23   \n",
       "\n",
       "  Rating   Duration                                              Genre  \\\n",
       "0  TV-MA  4 Seasons  International TV Shows, TV Dramas, TV Sci-Fi &...   \n",
       "0  TV-MA  4 Seasons  International TV Shows, TV Dramas, TV Sci-Fi &...   \n",
       "0  TV-MA  4 Seasons  International TV Shows, TV Dramas, TV Sci-Fi &...   \n",
       "1  TV-MA     93 min                       Dramas, International Movies   \n",
       "1  TV-MA     93 min                       Dramas, International Movies   \n",
       "\n",
       "                                         Description  Cast Count  \\\n",
       "0  In a future where the elite inhabit an island ...        11.0   \n",
       "0  In a future where the elite inhabit an island ...        11.0   \n",
       "0  In a future where the elite inhabit an island ...        11.0   \n",
       "1  After a devastating earthquake hits Mexico Cit...         6.0   \n",
       "1  After a devastating earthquake hits Mexico Cit...         6.0   \n",
       "\n",
       "               Genre List  \n",
       "0  International TV Shows  \n",
       "0               TV Dramas  \n",
       "0     TV Sci-Fi & Fantasy  \n",
       "1                  Dramas  \n",
       "1    International Movies  "
      ]
     },
     "execution_count": 48,
     "metadata": {},
     "output_type": "execute_result"
    }
   ],
   "source": [
    "top_genres_df = df.copy()\n",
    "\n",
    "top_genres_df[\"Genre List\"] = top_genres_df[\"Genre\"].str.split(', ')\n",
    "top_genres_df = top_genres_df.explode('Genre List')\n",
    "top_genres_df.head()"
   ]
  },
  {
   "cell_type": "code",
   "execution_count": 49,
   "id": "4d1fb066-e2bb-4fde-91d0-989a9c5f4c6c",
   "metadata": {},
   "outputs": [
    {
     "data": {
      "text/html": [
       "<div>\n",
       "<style scoped>\n",
       "    .dataframe tbody tr th:only-of-type {\n",
       "        vertical-align: middle;\n",
       "    }\n",
       "\n",
       "    .dataframe tbody tr th {\n",
       "        vertical-align: top;\n",
       "    }\n",
       "\n",
       "    .dataframe thead th {\n",
       "        text-align: right;\n",
       "    }\n",
       "</style>\n",
       "<table border=\"1\" class=\"dataframe\">\n",
       "  <thead>\n",
       "    <tr style=\"text-align: right;\">\n",
       "      <th></th>\n",
       "      <th>Category</th>\n",
       "      <th>Genre List</th>\n",
       "      <th>Count</th>\n",
       "    </tr>\n",
       "  </thead>\n",
       "  <tbody>\n",
       "    <tr>\n",
       "      <th>11</th>\n",
       "      <td>Movie</td>\n",
       "      <td>International Movies</td>\n",
       "      <td>2437</td>\n",
       "    </tr>\n",
       "    <tr>\n",
       "      <th>7</th>\n",
       "      <td>Movie</td>\n",
       "      <td>Dramas</td>\n",
       "      <td>2106</td>\n",
       "    </tr>\n",
       "    <tr>\n",
       "      <th>4</th>\n",
       "      <td>Movie</td>\n",
       "      <td>Comedies</td>\n",
       "      <td>1471</td>\n",
       "    </tr>\n",
       "    <tr>\n",
       "      <th>25</th>\n",
       "      <td>TV Show</td>\n",
       "      <td>International TV Shows</td>\n",
       "      <td>1199</td>\n",
       "    </tr>\n",
       "    <tr>\n",
       "      <th>6</th>\n",
       "      <td>Movie</td>\n",
       "      <td>Documentaries</td>\n",
       "      <td>786</td>\n",
       "    </tr>\n",
       "  </tbody>\n",
       "</table>\n",
       "</div>"
      ],
      "text/plain": [
       "   Category              Genre List  Count\n",
       "11    Movie    International Movies   2437\n",
       "7     Movie                  Dramas   2106\n",
       "4     Movie                Comedies   1471\n",
       "25  TV Show  International TV Shows   1199\n",
       "6     Movie           Documentaries    786"
      ]
     },
     "execution_count": 49,
     "metadata": {},
     "output_type": "execute_result"
    }
   ],
   "source": [
    "# Calculate total number of movies/TV shows for each category & genre\n",
    "top_genres_df = top_genres_df.groupby([\"Category\", \"Genre List\"])[\"Genre List\"].count().reset_index(name=\"Count\").sort_values('Count', ascending=False)\n",
    "top_genres_df.head()"
   ]
  },
  {
   "cell_type": "code",
   "execution_count": 50,
   "id": "ee197b37-caa6-45c4-b0a7-96c2d7b846fa",
   "metadata": {},
   "outputs": [],
   "source": [
    "# Rank genre grouped movies/TV shows by their total occurences \n",
    "top_genres_df[\"rank\"] = top_genres_df.groupby([\"Category\"])[\"Count\"].rank(method=\"dense\", ascending=False)"
   ]
  },
  {
   "cell_type": "code",
   "execution_count": 51,
   "id": "6b9394f8-e8a3-4c78-8795-2fd9b5dbee08",
   "metadata": {},
   "outputs": [
    {
     "data": {
      "text/html": [
       "<div>\n",
       "<style scoped>\n",
       "    .dataframe tbody tr th:only-of-type {\n",
       "        vertical-align: middle;\n",
       "    }\n",
       "\n",
       "    .dataframe tbody tr th {\n",
       "        vertical-align: top;\n",
       "    }\n",
       "\n",
       "    .dataframe thead th {\n",
       "        text-align: right;\n",
       "    }\n",
       "</style>\n",
       "<table border=\"1\" class=\"dataframe\">\n",
       "  <thead>\n",
       "    <tr style=\"text-align: right;\">\n",
       "      <th></th>\n",
       "      <th>Category</th>\n",
       "      <th>Genre List</th>\n",
       "      <th>Count</th>\n",
       "      <th>rank</th>\n",
       "    </tr>\n",
       "  </thead>\n",
       "  <tbody>\n",
       "    <tr>\n",
       "      <th>11</th>\n",
       "      <td>Movie</td>\n",
       "      <td>International Movies</td>\n",
       "      <td>2437</td>\n",
       "      <td>1.0</td>\n",
       "    </tr>\n",
       "    <tr>\n",
       "      <th>25</th>\n",
       "      <td>TV Show</td>\n",
       "      <td>International TV Shows</td>\n",
       "      <td>1199</td>\n",
       "      <td>1.0</td>\n",
       "    </tr>\n",
       "    <tr>\n",
       "      <th>7</th>\n",
       "      <td>Movie</td>\n",
       "      <td>Dramas</td>\n",
       "      <td>2106</td>\n",
       "      <td>2.0</td>\n",
       "    </tr>\n",
       "    <tr>\n",
       "      <th>35</th>\n",
       "      <td>TV Show</td>\n",
       "      <td>TV Dramas</td>\n",
       "      <td>704</td>\n",
       "      <td>2.0</td>\n",
       "    </tr>\n",
       "    <tr>\n",
       "      <th>4</th>\n",
       "      <td>Movie</td>\n",
       "      <td>Comedies</td>\n",
       "      <td>1471</td>\n",
       "      <td>3.0</td>\n",
       "    </tr>\n",
       "    <tr>\n",
       "      <th>34</th>\n",
       "      <td>TV Show</td>\n",
       "      <td>TV Comedies</td>\n",
       "      <td>525</td>\n",
       "      <td>3.0</td>\n",
       "    </tr>\n",
       "    <tr>\n",
       "      <th>6</th>\n",
       "      <td>Movie</td>\n",
       "      <td>Documentaries</td>\n",
       "      <td>786</td>\n",
       "      <td>4.0</td>\n",
       "    </tr>\n",
       "    <tr>\n",
       "      <th>23</th>\n",
       "      <td>TV Show</td>\n",
       "      <td>Crime TV Shows</td>\n",
       "      <td>427</td>\n",
       "      <td>4.0</td>\n",
       "    </tr>\n",
       "    <tr>\n",
       "      <th>0</th>\n",
       "      <td>Movie</td>\n",
       "      <td>Action &amp; Adventure</td>\n",
       "      <td>721</td>\n",
       "      <td>5.0</td>\n",
       "    </tr>\n",
       "    <tr>\n",
       "      <th>26</th>\n",
       "      <td>TV Show</td>\n",
       "      <td>Kids' TV</td>\n",
       "      <td>414</td>\n",
       "      <td>5.0</td>\n",
       "    </tr>\n",
       "  </tbody>\n",
       "</table>\n",
       "</div>"
      ],
      "text/plain": [
       "   Category              Genre List  Count  rank\n",
       "11    Movie    International Movies   2437   1.0\n",
       "25  TV Show  International TV Shows   1199   1.0\n",
       "7     Movie                  Dramas   2106   2.0\n",
       "35  TV Show               TV Dramas    704   2.0\n",
       "4     Movie                Comedies   1471   3.0\n",
       "34  TV Show             TV Comedies    525   3.0\n",
       "6     Movie           Documentaries    786   4.0\n",
       "23  TV Show          Crime TV Shows    427   4.0\n",
       "0     Movie      Action & Adventure    721   5.0\n",
       "26  TV Show                Kids' TV    414   5.0"
      ]
     },
     "execution_count": 51,
     "metadata": {},
     "output_type": "execute_result"
    }
   ],
   "source": [
    "# Filter to only include the 5 most frequent genres for each category\n",
    "top_genres_df = top_genres_df[top_genres_df[\"rank\"] <= 5].sort_values('rank')\n",
    "top_genres_df"
   ]
  },
  {
   "cell_type": "code",
   "execution_count": 52,
   "id": "693cfddb-bab1-4c29-9042-9e64704a649c",
   "metadata": {},
   "outputs": [
    {
     "data": {
      "image/png": "[encoded data removed]",
      "text/plain": [
       "<Figure size 1080x360 with 2 Axes>"
      ]
     },
     "metadata": {},
     "output_type": "display_data"
    }
   ],
   "source": [
    "fig, axes = plt.subplots(1, 2, sharey=True, figsize=(15,5))\n",
    "fig.suptitle('Top Movie genres vs Top TV Show genres', size=18)\n",
    "fig.tight_layout()\n",
    "\n",
    "a = sns.barplot(ax=axes[0], data=top_genres_df[top_genres_df[\"Category\"] == \"Movie\"], x=\"Genre List\", y=\"Count\")\n",
    "a.set(title=\"Top 5 Movie genres\", xlabel='Movie Genre')\n",
    "\n",
    "b = sns.barplot(ax=axes[1], data=top_genres_df[top_genres_df[\"Category\"] == \"TV Show\"], x=\"Genre List\", y=\"Count\")\n",
    "b.set(title=\"Top 5 TV Show genres\", ylabel='', xlabel='TV Genre')\n",
    "\n",
    "plt.show()"
   ]
  },
  {
   "cell_type": "markdown",
   "id": "c3e95d51-d8db-44b6-9374-8c482c8e902e",
   "metadata": {},
   "source": [
    "<font size=\"3\">There is a clear similarity between the most common movie and TV show genres with 'International Movies', 'Dramas' and 'Comedies' being the top 3 movie genres and 'International TV Shows', 'TV Dramas' and 'TV Comedies' being the top 3 TV show genres. After this there are some differences, probably due to different genres being better suited to different content formats.</font>"
   ]
  }
 ],
 "metadata": {
  "kernelspec": {
   "display_name": "Python 3",
   "language": "python",
   "name": "python3"
  },
  "language_info": {
   "codemirror_mode": {
    "name": "ipython",
    "version": 3
   },
   "file_extension": ".py",
   "mimetype": "text/x-python",
   "name": "python",
   "nbconvert_exporter": "python",
   "pygments_lexer": "ipython3",
   "version": "3.10.2"
  }
 },
 "nbformat": 4,
 "nbformat_minor": 5
}
